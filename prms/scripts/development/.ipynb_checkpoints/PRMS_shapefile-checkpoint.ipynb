{
 "cells": [
  {
   "cell_type": "code",
   "execution_count": 6,
   "id": "45c3ec29-dd9f-413e-93c1-ffeaf8620e97",
   "metadata": {},
   "outputs": [],
   "source": [
    "import geopandas as gpd\n",
    "import pyproj"
   ]
  },
  {
   "cell_type": "code",
   "execution_count": 2,
   "id": "2b3ad460-29a6-4601-b403-1b77adfb1b2f",
   "metadata": {},
   "outputs": [],
   "source": [
    "# read shapefile with river ID 0\n",
    "shp=gpd.read_file('/home/paulc600/local/PRMS Kathy Setup/20230605_gm_byHWobs_st_mary_and_milk_rivers/GIS/model_nhru.shp')"
   ]
  },
  {
   "cell_type": "code",
   "execution_count": 3,
   "id": "e73d4cb2-4d09-4f65-b53d-2e486e2fa053",
   "metadata": {},
   "outputs": [
    {
     "data": {
      "text/html": [
       "<div>\n",
       "<style scoped>\n",
       "    .dataframe tbody tr th:only-of-type {\n",
       "        vertical-align: middle;\n",
       "    }\n",
       "\n",
       "    .dataframe tbody tr th {\n",
       "        vertical-align: top;\n",
       "    }\n",
       "\n",
       "    .dataframe thead th {\n",
       "        text-align: right;\n",
       "    }\n",
       "</style>\n",
       "<table border=\"1\" class=\"dataframe\">\n",
       "  <thead>\n",
       "    <tr style=\"text-align: right;\">\n",
       "      <th></th>\n",
       "      <th>nhm_id</th>\n",
       "      <th>model_hru_</th>\n",
       "      <th>geometry</th>\n",
       "    </tr>\n",
       "  </thead>\n",
       "  <tbody>\n",
       "    <tr>\n",
       "      <th>0</th>\n",
       "      <td>95965</td>\n",
       "      <td>1</td>\n",
       "      <td>POLYGON ((-1294255.000 2965315.000, -1294505.0...</td>\n",
       "    </tr>\n",
       "    <tr>\n",
       "      <th>1</th>\n",
       "      <td>95966</td>\n",
       "      <td>2</td>\n",
       "      <td>POLYGON ((-1296005.000 2979315.000, -1295785.0...</td>\n",
       "    </tr>\n",
       "    <tr>\n",
       "      <th>2</th>\n",
       "      <td>95968</td>\n",
       "      <td>3</td>\n",
       "      <td>POLYGON ((-1307975.000 2985175.557, -1307965.0...</td>\n",
       "    </tr>\n",
       "    <tr>\n",
       "      <th>3</th>\n",
       "      <td>95969</td>\n",
       "      <td>4</td>\n",
       "      <td>POLYGON ((-1307975.000 2985175.557, -1308019.4...</td>\n",
       "    </tr>\n",
       "    <tr>\n",
       "      <th>4</th>\n",
       "      <td>95970</td>\n",
       "      <td>5</td>\n",
       "      <td>POLYGON ((-1307965.000 2985172.654, -1307975.0...</td>\n",
       "    </tr>\n",
       "    <tr>\n",
       "      <th>...</th>\n",
       "      <td>...</td>\n",
       "      <td>...</td>\n",
       "      <td>...</td>\n",
       "    </tr>\n",
       "    <tr>\n",
       "      <th>904</th>\n",
       "      <td>96139</td>\n",
       "      <td>53</td>\n",
       "      <td>POLYGON ((-1250365.000 3040245.000, -1250025.0...</td>\n",
       "    </tr>\n",
       "    <tr>\n",
       "      <th>905</th>\n",
       "      <td>96959</td>\n",
       "      <td>549</td>\n",
       "      <td>POLYGON ((-1233548.740 2993430.170, -1233490.0...</td>\n",
       "    </tr>\n",
       "    <tr>\n",
       "      <th>906</th>\n",
       "      <td>96978</td>\n",
       "      <td>568</td>\n",
       "      <td>POLYGON ((-1236165.000 2997425.000, -1236155.0...</td>\n",
       "    </tr>\n",
       "    <tr>\n",
       "      <th>907</th>\n",
       "      <td>97007</td>\n",
       "      <td>597</td>\n",
       "      <td>POLYGON ((-1249715.000 2995295.000, -1249705.0...</td>\n",
       "    </tr>\n",
       "    <tr>\n",
       "      <th>908</th>\n",
       "      <td>97013</td>\n",
       "      <td>603</td>\n",
       "      <td>POLYGON ((-1242735.000 3015415.000, -1242685.0...</td>\n",
       "    </tr>\n",
       "  </tbody>\n",
       "</table>\n",
       "<p>909 rows × 3 columns</p>\n",
       "</div>"
      ],
      "text/plain": [
       "     nhm_id  model_hru_                                           geometry\n",
       "0     95965           1  POLYGON ((-1294255.000 2965315.000, -1294505.0...\n",
       "1     95966           2  POLYGON ((-1296005.000 2979315.000, -1295785.0...\n",
       "2     95968           3  POLYGON ((-1307975.000 2985175.557, -1307965.0...\n",
       "3     95969           4  POLYGON ((-1307975.000 2985175.557, -1308019.4...\n",
       "4     95970           5  POLYGON ((-1307965.000 2985172.654, -1307975.0...\n",
       "..      ...         ...                                                ...\n",
       "904   96139          53  POLYGON ((-1250365.000 3040245.000, -1250025.0...\n",
       "905   96959         549  POLYGON ((-1233548.740 2993430.170, -1233490.0...\n",
       "906   96978         568  POLYGON ((-1236165.000 2997425.000, -1236155.0...\n",
       "907   97007         597  POLYGON ((-1249715.000 2995295.000, -1249705.0...\n",
       "908   97013         603  POLYGON ((-1242735.000 3015415.000, -1242685.0...\n",
       "\n",
       "[909 rows x 3 columns]"
      ]
     },
     "execution_count": 3,
     "metadata": {},
     "output_type": "execute_result"
    }
   ],
   "source": [
    "shp"
   ]
  },
  {
   "cell_type": "code",
   "execution_count": 28,
   "id": "394ad52e-b9ec-4473-b459-fb2af29205fb",
   "metadata": {},
   "outputs": [
    {
     "name": "stdout",
     "output_type": "stream",
     "text": [
      "Current CRS: PROJCS[\"USA_Contiguous_Albers_Equal_Area_Conic_USGS_version\",GEOGCS[\"NAD83\",DATUM[\"North_American_Datum_1983\",SPHEROID[\"GRS 1980\",6378137,298.257222101,AUTHORITY[\"EPSG\",\"7019\"]],AUTHORITY[\"EPSG\",\"6269\"]],PRIMEM[\"Greenwich\",0,AUTHORITY[\"EPSG\",\"8901\"]],UNIT[\"degree\",0.0174532925199433,AUTHORITY[\"EPSG\",\"9122\"]],AUTHORITY[\"EPSG\",\"4269\"]],PROJECTION[\"Albers_Conic_Equal_Area\"],PARAMETER[\"latitude_of_center\",23],PARAMETER[\"longitude_of_center\",-96],PARAMETER[\"standard_parallel_1\",29.5],PARAMETER[\"standard_parallel_2\",45.5],PARAMETER[\"false_easting\",0],PARAMETER[\"false_northing\",0],UNIT[\"metre\",1,AUTHORITY[\"EPSG\",\"9001\"]],AXIS[\"Easting\",EAST],AXIS[\"Northing\",NORTH],AUTHORITY[\"ESRI\",\"102039\"]]\n"
     ]
    }
   ],
   "source": [
    "# Check the current CRS\n",
    "current_crs = shp.crs\n",
    "print(\"Current CRS:\", current_crs)"
   ]
  },
  {
   "cell_type": "code",
   "execution_count": 29,
   "id": "d0343582-5b27-4780-831e-3fd0162fb1ea",
   "metadata": {},
   "outputs": [
    {
     "name": "stdout",
     "output_type": "stream",
     "text": [
      "Converted to CRS: EPSG:4326\n"
     ]
    }
   ],
   "source": [
    "# Convert to EPSG:4326 if not already in that CRS\n",
    "target_crs = 'EPSG:4326'\n",
    "if current_crs != target_crs:\n",
    "    shp = shp.to_crs(target_crs)\n",
    "    print(\"Converted to CRS:\", shp.crs)"
   ]
  },
  {
   "cell_type": "code",
   "execution_count": 32,
   "id": "80b464e5-cb2b-4f1d-810b-356984473565",
   "metadata": {},
   "outputs": [],
   "source": [
    "# Save the modified GeoDataFrame to a new shapefile\n",
    "output_path = '/home/paulc600/local/Modified_EPSG.shp'\n",
    "shp.to_file(output_path)"
   ]
  },
  {
   "cell_type": "code",
   "execution_count": 33,
   "id": "e9b579ca-78fe-4ec0-bed1-61897c4f69dc",
   "metadata": {},
   "outputs": [],
   "source": [
    "# Read the modified shapefile into a new GeoDataFrame to check that it has been switched\n",
    "modified_shapefile_path = 'local/Modified_EPSG/Modified_EPSG.shp'\n",
    "modified_gdf = gpd.read_file(modified_shapefile_path)"
   ]
  },
  {
   "cell_type": "code",
   "execution_count": 34,
   "id": "0209ad7a-6d17-4bf9-af07-f8068e514bcc",
   "metadata": {},
   "outputs": [
    {
     "name": "stdout",
     "output_type": "stream",
     "text": [
      "Modified CRS: epsg:4326\n"
     ]
    }
   ],
   "source": [
    "# Check the CRS of the modified GeoDataFrame\n",
    "modified_crs = modified_gdf.crs\n",
    "print(\"Modified CRS:\", modified_crs)"
   ]
  },
  {
   "cell_type": "code",
   "execution_count": null,
   "id": "72d62d11-7a42-4767-ad2e-15f5715be8d1",
   "metadata": {},
   "outputs": [],
   "source": []
  }
 ],
 "metadata": {
  "kernelspec": {
   "display_name": "easymore-env",
   "language": "python",
   "name": "easymore-env"
  },
  "language_info": {
   "codemirror_mode": {
    "name": "ipython",
    "version": 3
   },
   "file_extension": ".py",
   "mimetype": "text/x-python",
   "name": "python",
   "nbconvert_exporter": "python",
   "pygments_lexer": "ipython3",
   "version": "3.8.10"
  }
 },
 "nbformat": 4,
 "nbformat_minor": 5
}
