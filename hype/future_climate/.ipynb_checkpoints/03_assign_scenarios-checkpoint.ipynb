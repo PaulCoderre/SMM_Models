{
 "cells": [
  {
   "cell_type": "code",
   "execution_count": null,
   "id": "7d1112ba-09f1-4378-8ef8-e2ca31748301",
   "metadata": {},
   "outputs": [],
   "source": [
    "import os"
   ]
  },
  {
   "cell_type": "code",
   "execution_count": null,
   "id": "2ea75f7e-d529-4898-8ec9-f7c2ac9abed6",
   "metadata": {},
   "outputs": [],
   "source": [
    "directory_list= './directories.txt'\n",
    "results_directory= './full_results/'"
   ]
  },
  {
   "cell_type": "code",
   "execution_count": null,
   "id": "f911439c-ad70-4237-8106-4daceefa27a4",
   "metadata": {},
   "outputs": [],
   "source": [
    "# Initialize an empty list to store the paths\n",
    "directory_paths = []\n",
    "\n",
    "# Open the file and read each line into the list\n",
    "with open(directory_list, 'r') as file:\n",
    "    for line in file:\n",
    "        # Strip any leading/trailing whitespace characters\n",
    "        path = line.strip()\n",
    "        # Add the path to the list\n",
    "        directory_paths.append(path)"
   ]
  },
  {
   "cell_type": "code",
   "execution_count": null,
   "id": "f53769f1-7355-4904-b4d2-215be1fcbf36",
   "metadata": {},
   "outputs": [],
   "source": [
    "# Initialize a new list to store the found strings\n",
    "found_strings = []\n",
    "\n",
    "# Iterate through directory_paths and simultaneously check for the presence of ssp strings\n",
    "for path in directory_paths:\n",
    "    if 'ssp245' in path:\n",
    "        found_strings.append('ssp245')\n",
    "    elif 'ssp370' in path:\n",
    "        found_strings.append('ssp370')\n",
    "    elif 'ssp585' in path:\n",
    "        found_strings.append('ssp585')"
   ]
  },
  {
   "cell_type": "code",
   "execution_count": null,
   "id": "c3f22dd4-acfc-458a-960e-327fb3a164c7",
   "metadata": {},
   "outputs": [],
   "source": [
    "# Iterate through each index number and string in found_strings\n",
    "for index, found_string in enumerate(found_strings):\n",
    "        # Iterate through files in results_directory\n",
    "    for filename in os.listdir(results_directory):\n",
    "        # Check if filename starts with the index (with leading zero)\n",
    "        if filename.startswith(f\"{index:02d}_\"):\n",
    "            # Append found string to the end of filename\n",
    "            new_filename = os.path.join(results_directory, filename[:-4] + \"_\" + found_string + \".txt\")\n",
    "            os.rename(os.path.join(results_directory, filename), new_filename)\n",
    "            print(f\"Renamed file: {filename} to {new_filename}\")"
   ]
  },
  {
   "cell_type": "code",
   "execution_count": null,
   "id": "56b35f69-fc4e-42ec-ab89-508d7cd0ddd4",
   "metadata": {},
   "outputs": [],
   "source": []
  }
 ],
 "metadata": {
  "kernelspec": {
   "display_name": "Python 3 (ipykernel)",
   "language": "python",
   "name": "python3"
  },
  "language_info": {
   "codemirror_mode": {
    "name": "ipython",
    "version": 3
   },
   "file_extension": ".py",
   "mimetype": "text/x-python",
   "name": "python",
   "nbconvert_exporter": "python",
   "pygments_lexer": "ipython3",
   "version": "3.10.13"
  }
 },
 "nbformat": 4,
 "nbformat_minor": 5
}
