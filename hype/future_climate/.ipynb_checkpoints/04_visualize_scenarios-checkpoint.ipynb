{
 "cells": [
  {
   "cell_type": "code",
   "execution_count": 1,
   "id": "756d9abc-5ff8-4c77-af6e-1578cb4c8d96",
   "metadata": {},
   "outputs": [],
   "source": [
    "import xarray as xr\n",
    "import os\n",
    "import pandas as pd\n",
    "import matplotlib.pyplot as plt\n",
    "from dateutil.parser import ParserError\n",
    "import cycler\n",
    "import matplotlib.ticker as ticker\n",
    "import numpy as np\n",
    "from matplotlib.lines import Line2D\n",
    "from matplotlib.patches import Patch"
   ]
  },
  {
   "cell_type": "markdown",
   "id": "d9f93936-0583-486f-87d8-b0b772f2e8fd",
   "metadata": {},
   "source": [
    "### Inputs"
   ]
  },
  {
   "cell_type": "code",
   "execution_count": 2,
   "id": "84f5415d-85fc-49c2-bab1-19b3eec942ef",
   "metadata": {},
   "outputs": [],
   "source": [
    "# Results directory\n",
    "results_directory = './full_results/'\n",
    "\n",
    "subbasin_id= '58308'\n",
    "\n",
    "gauge_name= 'MREIB'\n",
    "\n",
    "scenario= 'ssp370' # select ssp245, ssp370 or ssp585\n",
    "\n",
    "# start and end dates for the calculation of average annual flow\n",
    "start_date= '2030-01-01'\n",
    "\n",
    "end_date= '2060-12-31'\n",
    "\n",
    "# variable\n",
    "variable= 'cout' \n",
    "\n",
    "historical_path= '../0058308.txt'\n"
   ]
  },
  {
   "cell_type": "markdown",
   "id": "bd0e1beb-374a-47fc-9b50-5c45f01ad79b",
   "metadata": {},
   "source": [
    "### Analysis"
   ]
  },
  {
   "cell_type": "markdown",
   "id": "4263a648-9547-4e17-b375-f35d66619b04",
   "metadata": {},
   "source": [
    "Future Climate"
   ]
  },
  {
   "cell_type": "code",
   "execution_count": 3,
   "id": "ad8381f2-9298-47e3-a920-98d20d841acb",
   "metadata": {},
   "outputs": [],
   "source": [
    "def process_ensemble(results_directory: str, \n",
    "                 subbasin_id: str, \n",
    "                 scenario: str, \n",
    "                 start_date: str, \n",
    "                 end_date: str, \n",
    "                 variable: str) -> xr.DataArray:\n",
    "    # Check for files of required subbasin and scenario\n",
    "    file_list = [os.path.join(results_directory, filename) for filename in os.listdir(results_directory) if (subbasin_id in filename) and (scenario in filename)]\n",
    "    \n",
    "    # Create an empty list to store xarray DataArrays\n",
    "    data_arrays: List[xr.DataArray] = []\n",
    "\n",
    "    # Loop through each file\n",
    "    for file_path in file_list:\n",
    "        # Read the file into a pandas DataFrame\n",
    "        df = pd.read_csv(file_path, sep='\\t', index_col=0)\n",
    "\n",
    "        # Drop the first row\n",
    "        df = df.iloc[1:]\n",
    "\n",
    "        # Convert the DataFrame to an xarray DataArray\n",
    "        data_array = xr.DataArray(df.values, dims=('DATE', 'variable'), coords={'DATE': df.index, 'variable': df.columns})\n",
    "\n",
    "        # Append the DataArray to the list\n",
    "        data_arrays.append(data_array)\n",
    "\n",
    "    # Concatenate the list of DataArrays along a new dimension 'member'\n",
    "    ds = xr.concat(data_arrays, dim='member')\n",
    "\n",
    "    # Convert 'DATE' coordinate to datetime, specifying the format and handling errors\n",
    "    ds['DATE'] = pd.to_datetime(ds['DATE'], format='%Y-%m-%d', errors='coerce')\n",
    "\n",
    "    # Convert 'member' coordinate to float\n",
    "    ds = ds.astype(float)\n",
    "\n",
    "    # Select the specified variable from the dataset\n",
    "    var_data = ds.sel(variable=variable)\n",
    "\n",
    "    # Sort the dataset along the 'DATE' coordinate\n",
    "    var_data = var_data.sortby('DATE')\n",
    "\n",
    "    # Filter the sorted dataset to include only data between the specified dates\n",
    "    var_data = var_data.sel(DATE=slice(start_date, end_date))\n",
    "\n",
    "    # Calculate the mean of these daily means for each member to get the average annual runoff\n",
    "    average_annual_runoff = var_data.groupby('DATE.dayofyear').mean(dim='DATE')\n",
    "    \n",
    "    # shift data to start on november 1st\n",
    "    # Shift dayofyear to start at 306 and loop around\n",
    "    dayofyear_shifted = ((average_annual_runoff['dayofyear'] - 306) % 366) + 1\n",
    "\n",
    "    # Update the 'dayofyear' coordinate with the shifted values\n",
    "    average_annual_runoff['dayofyear'] = dayofyear_shifted\n",
    "\n",
    "    # Sort the data_array along the 'dayofyear' coordinate\n",
    "    average_annual_runoff_shifted = average_annual_runoff.sortby('dayofyear')\n",
    "    \n",
    "    return average_annual_runoff_shifted"
   ]
  },
  {
   "cell_type": "code",
   "execution_count": 4,
   "id": "21c0ec4f-f6ec-4dd4-85f6-ce7e9f284d14",
   "metadata": {},
   "outputs": [],
   "source": [
    "def process_historical(filepath: str, variable: str, start_date: str = '1981-01-01', end_date: str = '2015-12-31') -> pd.Series:\n",
    "    # Read the tab-separated text file into a DataFrame\n",
    "    sim: pd.DataFrame = pd.read_csv(filepath, delimiter='\\t', index_col=0)\n",
    "    \n",
    "    # Drop the first row\n",
    "    sim = sim.iloc[1:]\n",
    "    \n",
    "    # Drop all columns except for 'variable'\n",
    "    sim = sim[[variable]]\n",
    "    \n",
    "    # Convert index to datetime\n",
    "    sim.index = pd.to_datetime(sim.index)\n",
    "    \n",
    "    # Trim the DataFrame between dates\n",
    "    sim = sim.loc[start_date:end_date]\n",
    "    \n",
    "    # Get the length of the DataFrame before dropping NaN values\n",
    "    original_length: int = len(sim)\n",
    "    \n",
    "    # Convert the 'variable' column to numeric\n",
    "    sim[variable] = pd.to_numeric(sim[variable], errors='coerce')\n",
    "    \n",
    "    # Drop NaN values if any\n",
    "    sim = sim.dropna()\n",
    "    \n",
    "    # Get the length of the DataFrame after dropping NaN values\n",
    "    new_length: int = len(sim)\n",
    "    \n",
    "    # Check if any NaN values were replaced\n",
    "    if new_length < original_length:\n",
    "        print(\"NaN values were replaced during conversion.\")\n",
    "    else:\n",
    "        print(\"No NaN values were replaced during conversion.\")\n",
    "    \n",
    "    # Resample the data to calculate the mean for each day of the year across all years\n",
    "    sim_resampled: pd.Series = sim.groupby(sim.index.dayofyear)[variable].mean()\n",
    "    \n",
    "    # Assuming your Series is named 'series_data'\n",
    "    # Shift dayofyear to start at 306 and loop around\n",
    "    dayofyear_shifted = ((sim_resampled.index - 306) % 366) + 1\n",
    "\n",
    "    # Update the index of the Series with the shifted dayofyear values\n",
    "    sim_resampled.index = dayofyear_shifted\n",
    "\n",
    "    # Sort the Series by index to ensure the correct order\n",
    "    sim_shifted = sim_resampled.sort_index()\n",
    "    \n",
    "    return sim_shifted"
   ]
  },
  {
   "cell_type": "code",
   "execution_count": 5,
   "id": "eb7a7cec-2546-4b56-b0f6-19a4751b668e",
   "metadata": {},
   "outputs": [
    {
     "ename": "FileNotFoundError",
     "evalue": "[WinError 3] The system cannot find the path specified: './full_results/'",
     "output_type": "error",
     "traceback": [
      "\u001b[1;31m---------------------------------------------------------------------------\u001b[0m",
      "\u001b[1;31mFileNotFoundError\u001b[0m                         Traceback (most recent call last)",
      "Cell \u001b[1;32mIn[5], line 1\u001b[0m\n\u001b[1;32m----> 1\u001b[0m ssp245_2030\u001b[38;5;241m=\u001b[39m \u001b[43mprocess_ensemble\u001b[49m\u001b[43m(\u001b[49m\u001b[43mresults_directory\u001b[49m\u001b[43m,\u001b[49m\u001b[43m \u001b[49m\u001b[43msubbasin_id\u001b[49m\u001b[43m,\u001b[49m\u001b[43m \u001b[49m\u001b[38;5;124;43m'\u001b[39;49m\u001b[38;5;124;43mssp245\u001b[39;49m\u001b[38;5;124;43m'\u001b[39;49m\u001b[43m,\u001b[49m\u001b[43m \u001b[49m\u001b[38;5;124;43m'\u001b[39;49m\u001b[38;5;124;43m2030-01-01\u001b[39;49m\u001b[38;5;124;43m'\u001b[39;49m\u001b[43m,\u001b[49m\u001b[43m \u001b[49m\u001b[38;5;124;43m'\u001b[39;49m\u001b[38;5;124;43m2060-12-31\u001b[39;49m\u001b[38;5;124;43m'\u001b[39;49m\u001b[43m,\u001b[49m\u001b[43m \u001b[49m\u001b[43mvariable\u001b[49m\u001b[43m)\u001b[49m\n",
      "Cell \u001b[1;32mIn[3], line 8\u001b[0m, in \u001b[0;36mprocess_ensemble\u001b[1;34m(results_directory, subbasin_id, scenario, start_date, end_date, variable)\u001b[0m\n\u001b[0;32m      1\u001b[0m \u001b[38;5;28;01mdef\u001b[39;00m \u001b[38;5;21mprocess_ensemble\u001b[39m(results_directory: \u001b[38;5;28mstr\u001b[39m, \n\u001b[0;32m      2\u001b[0m                  subbasin_id: \u001b[38;5;28mstr\u001b[39m, \n\u001b[0;32m      3\u001b[0m                  scenario: \u001b[38;5;28mstr\u001b[39m, \n\u001b[1;32m   (...)\u001b[0m\n\u001b[0;32m      6\u001b[0m                  variable: \u001b[38;5;28mstr\u001b[39m) \u001b[38;5;241m-\u001b[39m\u001b[38;5;241m>\u001b[39m xr\u001b[38;5;241m.\u001b[39mDataArray:\n\u001b[0;32m      7\u001b[0m     \u001b[38;5;66;03m# Check for files of required subbasin and scenario\u001b[39;00m\n\u001b[1;32m----> 8\u001b[0m     file_list \u001b[38;5;241m=\u001b[39m [os\u001b[38;5;241m.\u001b[39mpath\u001b[38;5;241m.\u001b[39mjoin(results_directory, filename) \u001b[38;5;28;01mfor\u001b[39;00m filename \u001b[38;5;129;01min\u001b[39;00m \u001b[43mos\u001b[49m\u001b[38;5;241;43m.\u001b[39;49m\u001b[43mlistdir\u001b[49m\u001b[43m(\u001b[49m\u001b[43mresults_directory\u001b[49m\u001b[43m)\u001b[49m \u001b[38;5;28;01mif\u001b[39;00m (subbasin_id \u001b[38;5;129;01min\u001b[39;00m filename) \u001b[38;5;129;01mand\u001b[39;00m (scenario \u001b[38;5;129;01min\u001b[39;00m filename)]\n\u001b[0;32m     10\u001b[0m     \u001b[38;5;66;03m# Create an empty list to store xarray DataArrays\u001b[39;00m\n\u001b[0;32m     11\u001b[0m     data_arrays: List[xr\u001b[38;5;241m.\u001b[39mDataArray] \u001b[38;5;241m=\u001b[39m []\n",
      "\u001b[1;31mFileNotFoundError\u001b[0m: [WinError 3] The system cannot find the path specified: './full_results/'"
     ]
    }
   ],
   "source": [
    "ssp245_2030= process_ensemble(results_directory, subbasin_id, 'ssp245', '2030-01-01', '2060-12-31', variable)"
   ]
  },
  {
   "cell_type": "code",
   "execution_count": null,
   "id": "0a9fc5d5-c6e7-4eb4-88d6-ee9946fd845f",
   "metadata": {},
   "outputs": [],
   "source": [
    "ssp370_2030 = process_ensemble(results_directory, subbasin_id, 'ssp370', '2030-01-01', '2060-12-31', variable)"
   ]
  },
  {
   "cell_type": "code",
   "execution_count": null,
   "id": "c4f558f5-5dfe-4a5e-b5cc-3f3ababd8817",
   "metadata": {},
   "outputs": [],
   "source": [
    "ssp585_2030= process_ensemble(results_directory, subbasin_id, 'ssp585', '2030-01-01', '2060-12-31', variable)"
   ]
  },
  {
   "cell_type": "code",
   "execution_count": null,
   "id": "af43645b-e227-42ab-9502-139db395feae",
   "metadata": {},
   "outputs": [],
   "source": [
    "ssp245_2060= process_ensemble(results_directory, subbasin_id, 'ssp245', '2060-01-01', '2090-12-31', variable)"
   ]
  },
  {
   "cell_type": "code",
   "execution_count": null,
   "id": "34a7672e-63d3-47af-9888-40aa8cc49597",
   "metadata": {},
   "outputs": [],
   "source": [
    "ssp370_2060 = process_ensemble(results_directory, subbasin_id, 'ssp370', '2060-01-01', '2090-12-31', variable)"
   ]
  },
  {
   "cell_type": "code",
   "execution_count": null,
   "id": "db982dfa-4701-497f-bd72-9c4022da48b7",
   "metadata": {},
   "outputs": [],
   "source": [
    "ssp585_2060= process_ensemble(results_directory, subbasin_id, 'ssp585', '2060-01-01', '2090-12-31', variable)"
   ]
  },
  {
   "cell_type": "code",
   "execution_count": null,
   "id": "ac106139-3e48-4af4-9483-fc8cb01b117e",
   "metadata": {},
   "outputs": [],
   "source": [
    "ssp245_historical= process_ensemble(results_directory, subbasin_id, 'ssp245', '1981-01-01','2015-12-31' , variable)"
   ]
  },
  {
   "cell_type": "code",
   "execution_count": null,
   "id": "72e30bda-7a30-4c28-a710-d4bfa6aa368e",
   "metadata": {},
   "outputs": [],
   "source": [
    "ssp370_historical= process_ensemble(results_directory, subbasin_id, 'ssp370', '1981-01-01','2015-12-31' , variable)"
   ]
  },
  {
   "cell_type": "code",
   "execution_count": null,
   "id": "0d443dd3-128c-49f1-8dfe-29602aeea857",
   "metadata": {},
   "outputs": [],
   "source": [
    "ssp585_historical= process_ensemble(results_directory, subbasin_id, 'ssp585', '1981-01-01','2015-12-31' , variable)"
   ]
  },
  {
   "cell_type": "markdown",
   "id": "9060a32e-3868-4e55-a8bd-85afae4e1170",
   "metadata": {},
   "source": [
    "Historical Simulation"
   ]
  },
  {
   "cell_type": "code",
   "execution_count": null,
   "id": "e52202d4-1822-48f2-81b2-d3bd5c6a98b9",
   "metadata": {},
   "outputs": [],
   "source": [
    "sim_resampled= process_historical(historical_path, variable, start_date=\"1981-01-01\", end_date=\"2015-12-31\")"
   ]
  },
  {
   "cell_type": "code",
   "execution_count": null,
   "id": "da2d8d9f-1b73-4124-8b16-062d5abafbde",
   "metadata": {},
   "outputs": [],
   "source": [
    "if variable == 'cout':\n",
    "    var_name = 'Streamflow'\n",
    "elif variable == 'snow':\n",
    "    var_name = 'SWE'\n",
    "elif variable == 'cpRF':\n",
    "    var_name = 'Rainfall'\n",
    "else:\n",
    "    var_name = 'Unknown'  # Handle any other value of variable"
   ]
  },
  {
   "cell_type": "markdown",
   "id": "8865b498-f4bb-4beb-9097-60fd5a2ad67c",
   "metadata": {},
   "source": [
    "### All SSP"
   ]
  },
  {
   "cell_type": "markdown",
   "id": "c9abaa25-dafe-4519-805f-073802a51928",
   "metadata": {},
   "source": [
    "2030-2060"
   ]
  },
  {
   "cell_type": "code",
   "execution_count": null,
   "id": "36c66a40-d1c4-4b8b-9ee8-5f431c8efd39",
   "metadata": {},
   "outputs": [],
   "source": [
    "# Set the figure size\n",
    "plt.figure(figsize=(16, 8))  # Adjust width and height as needed\n",
    "\n",
    "# Plotting each member directly with specified colors and labels\n",
    "ssp245_2030.plot.line(x='dayofyear', color='purple', alpha=0, label='_nolegend_')\n",
    "ssp370_2030.plot.line(x='dayofyear', color='blue', alpha=0, label='_nolegend_')\n",
    "ssp585_2030.plot.line(x='dayofyear', color='orange', alpha=0, label='_nolegend_')\n",
    "sim_resampled.plot(label='Simulated Historical', color='red')\n",
    "\n",
    "# Fill between lines\n",
    "plt.fill_between(ssp245_2030['dayofyear'], ssp245_2030.min(dim='member'), ssp245_2030.max(dim='member'), color='indigo', alpha=0.2)\n",
    "plt.fill_between(ssp370_2030['dayofyear'], ssp370_2030.min(dim='member'), ssp370_2030.max(dim='member'), color='blue', alpha=0.2)\n",
    "plt.fill_between(ssp585_2030['dayofyear'], ssp585_2030.min(dim='member'), ssp585_2030.max(dim='member'), color='darkcyan', alpha=0.2)\n",
    "\n",
    "# Plot the mean of each ensemble\n",
    "ssp245_2060_mean = ssp245_2030.mean(dim='member')\n",
    "ssp370_2060_mean = ssp370_2030.mean(dim='member')\n",
    "ssp585_2060_mean = ssp585_2030.mean(dim='member')\n",
    "\n",
    "ssp245_2060_mean.plot(color='indigo', linestyle='-', label='ssp245 Future Mean')\n",
    "ssp370_2060_mean.plot(color='blue', linestyle='-', label='ssp370 Future Mean')\n",
    "ssp585_2060_mean.plot(color='darkcyan', linestyle='-', label='ssp585 Future Mean')\n",
    "\n",
    "# Manually create legend handles and labels\n",
    "legend_handles = [\n",
    "    Patch(facecolor='indigo', alpha=0.2, label=f'ssp245 Future'),\n",
    "    Patch(facecolor='blue', alpha=0.2, label=f'ssp370 Future'),\n",
    "    Patch(facecolor='darkcyan', alpha=0.2, label=f'ssp585 Future'),\n",
    "    Line2D([0], [0], color='indigo', lw=2, linestyle='-', label='ssp245 Future Mean'),\n",
    "    Line2D([0], [0], color='blue', lw=2, linestyle='-', label='ssp370 Future Mean'),\n",
    "    Line2D([0], [0], color='darkcyan', lw=2, linestyle='-', label='ssp585 Future Mean'),\n",
    "        Line2D([0], [0], color='red', lw=2, label='RDRSv2 Historical')\n",
    "]\n",
    "\n",
    "# Add legend with custom handles and labels\n",
    "plt.legend(handles=legend_handles)\n",
    "\n",
    "plt.xlabel('Day of Year (Starting Nov 1st)')\n",
    "plt.ylabel(f'Average Daily {var_name} (cms)')\n",
    "plt.title(f'{gauge_name} Average Daily {var_name} Between 2030 and 2060')\n",
    "\n",
    "# Save the plot as PNG\n",
    "plt.savefig(f'{subbasin_id}_2030_all_ssp_.png')\n",
    "\n",
    "plt.show()"
   ]
  },
  {
   "cell_type": "markdown",
   "id": "e5904758-c64f-4b47-a613-0eff039c5a45",
   "metadata": {},
   "source": [
    "2060-2090"
   ]
  },
  {
   "cell_type": "code",
   "execution_count": null,
   "id": "836f83e9-f59a-4d07-ae77-f1f4efd00761",
   "metadata": {},
   "outputs": [],
   "source": [
    "# Set the figure size\n",
    "plt.figure(figsize=(16, 8))  # Adjust width and height as needed\n",
    "\n",
    "# Plotting each member directly with specified colors and labels\n",
    "ssp245_2060.plot.line(x='dayofyear', color='purple', alpha=0, label='_nolegend_')\n",
    "ssp370_2060.plot.line(x='dayofyear', color='blue', alpha=0, label='_nolegend_')\n",
    "ssp585_2060.plot.line(x='dayofyear', color='orange', alpha=0, label='_nolegend_')\n",
    "sim_resampled.plot(label='Simulated Historical', color='red')\n",
    "\n",
    "# Fill between lines\n",
    "plt.fill_between(ssp245_2060['dayofyear'], ssp245_2060.min(dim='member'), ssp245_2060.max(dim='member'), color='indigo', alpha=0.2)\n",
    "plt.fill_between(ssp370_2060['dayofyear'], ssp370_2060.min(dim='member'), ssp370_2060.max(dim='member'), color='blue', alpha=0.2)\n",
    "plt.fill_between(ssp585_2060['dayofyear'], ssp585_2060.min(dim='member'), ssp585_2060.max(dim='member'), color='darkcyan', alpha=0.2)\n",
    "\n",
    "# Plot the mean of each ensemble\n",
    "ssp245_2060_mean = ssp245_2060.mean(dim='member')\n",
    "ssp370_2060_mean = ssp370_2060.mean(dim='member')\n",
    "ssp585_2060_mean = ssp585_2060.mean(dim='member')\n",
    "\n",
    "ssp245_2060_mean.plot(color='indigo', linestyle='-', label='ssp245 Future Mean')\n",
    "ssp370_2060_mean.plot(color='blue', linestyle='-', label='ssp370 Future Mean')\n",
    "ssp585_2060_mean.plot(color='darkcyan', linestyle='-', label='ssp585 Future Mean')\n",
    "\n",
    "# Manually create legend handles and labels\n",
    "legend_handles = [\n",
    "    Patch(facecolor='indigo', alpha=0.2, label=f'ssp245 Future'),\n",
    "    Patch(facecolor='blue', alpha=0.2, label=f'ssp370 Future'),\n",
    "    Patch(facecolor='darkcyan', alpha=0.2, label=f'ssp585 Future'),\n",
    "    Line2D([0], [0], color='indigo', lw=2, linestyle='-', label='ssp245 Future Mean'),\n",
    "    Line2D([0], [0], color='blue', lw=2, linestyle='-', label='ssp370 Future Mean'),\n",
    "    Line2D([0], [0], color='darkcyan', lw=2, linestyle='-', label='ssp585 Future Mean'),\n",
    "        Line2D([0], [0], color='red', lw=2, label='RDRSv2 Historical')\n",
    "]\n",
    "\n",
    "# Add legend with custom handles and labels\n",
    "plt.legend(handles=legend_handles)\n",
    "\n",
    "plt.xlabel('Day of Year (Starting Nov 1st)')\n",
    "plt.ylabel(f'Average Daily {var_name} (cms)')\n",
    "plt.title(f'{gauge_name} Average Daily {var_name} Between 2060 and 2090')\n",
    "\n",
    "# Save the plot as PNG\n",
    "plt.savefig(f'{subbasin_id}_2060_all_ssp_.png')\n",
    "\n",
    "plt.show()"
   ]
  },
  {
   "cell_type": "markdown",
   "id": "a2b517ae-f2d3-4552-bf30-a49efac97b3e",
   "metadata": {},
   "source": [
    "### Individual ssp over time"
   ]
  },
  {
   "cell_type": "markdown",
   "id": "c334e6a3-866e-4a8f-bc3c-3751809f08af",
   "metadata": {},
   "source": [
    "ssp245"
   ]
  },
  {
   "cell_type": "code",
   "execution_count": null,
   "id": "ff8c5606-4e44-4aa0-9714-1876fe304683",
   "metadata": {},
   "outputs": [],
   "source": [
    "# Set the figure size\n",
    "plt.figure(figsize=(16, 8))  # Adjust width and height as needed\n",
    "\n",
    "# Plotting each member directly with specified colors and labels\n",
    "ssp245_2030.plot.line(x='dayofyear', color='blue', alpha=0, label='_nolegend_')\n",
    "ssp245_2060.plot.line(x='dayofyear', color='blue', alpha=0, label='_nolegend_')\n",
    "ssp245_historical.plot.line(x='dayofyear', color='blue', alpha=0, label='_nolegend_')\n",
    "sim_resampled.plot(label='Simulated Historical', color='red')\n",
    "\n",
    "# Fill between lines\n",
    "plt.fill_between(ssp245_2030['dayofyear'], ssp245_2030.min(dim='member'), ssp245_2030.max(dim='member'), color='indigo', alpha=0.2)\n",
    "plt.fill_between(ssp245_2060['dayofyear'], ssp245_2060.min(dim='member'), ssp245_2060.max(dim='member'), color='blue', alpha=0.2)\n",
    "plt.fill_between(ssp245_historical['dayofyear'], ssp245_historical.min(dim='member'), ssp245_historical.max(dim='member'), color='darkcyan', alpha=0.2)\n",
    "\n",
    "# Plot the mean of each ensemble\n",
    "ssp245_2030_mean = ssp245_2030.mean(dim='member')\n",
    "ssp245_2060_mean = ssp245_2060.mean(dim='member')\n",
    "ssp245_historical_mean = ssp245_historical.mean(dim='member')\n",
    "\n",
    "ssp245_2030_mean.plot(color='indigo', linestyle='-', label='ssp245 2030-2060 Mean')\n",
    "ssp245_2060_mean.plot(color='blue', linestyle='-', label='ssp245 2060-2090 Mean')\n",
    "ssp245_historical_mean.plot(color='darkcyan', linestyle='-', label='ssp245 Historical Mean')\n",
    "\n",
    "\n",
    "# Manually create legend handles and labels\n",
    "legend_handles = [\n",
    "    Patch(facecolor='indigo', alpha=0.2, label=f'ssp245 2030-2060'),\n",
    "    Patch(facecolor='blue', alpha=0.2, label=f'ssp245 2060-2090'),\n",
    "    Patch(facecolor='darkcyan', alpha=0.2, label=f'ssp245 Historical'),\n",
    "    Line2D([0], [0], color='red', lw=2, label='RDRSv2 Historical'),\n",
    "    Line2D([0], [0], color='indigo', lw=2, linestyle='-', label='ssp245 2030-2060 Mean'),\n",
    "    Line2D([0], [0], color='blue', lw=2, linestyle='-', label='ssp245 2060-2090 Mean'),\n",
    "    Line2D([0], [0], color='darkcyan', lw=2, linestyle='-', label='ssp24 Historical Mean')\n",
    "]\n",
    "\n",
    "# Add legend with custom handles and labels\n",
    "plt.legend(handles=legend_handles)\n",
    "\n",
    "plt.xlabel('Day of Year (Starting Nov 1st)')\n",
    "plt.ylabel(f'Average Daily {var_name} (cms)')\n",
    "plt.title(f'{gauge_name} Average Daily {var_name}')\n",
    "\n",
    "# Save the plot as PNG\n",
    "plt.savefig(f'{subbasin_id}_ssp_245_all_time_periods_.png')\n",
    "\n",
    "plt.show()\n"
   ]
  },
  {
   "cell_type": "markdown",
   "id": "20a76da5-680c-4dde-b260-f0f303879394",
   "metadata": {},
   "source": [
    "ssp370"
   ]
  },
  {
   "cell_type": "code",
   "execution_count": null,
   "id": "2850ac2b-51f2-4387-b5b9-6f420e0d9dc6",
   "metadata": {},
   "outputs": [],
   "source": [
    "# Set the figure size\n",
    "plt.figure(figsize=(16, 8))  # Adjust width and height as needed\n",
    "\n",
    "# Plotting each member directly with specified colors and labels\n",
    "ssp370_2030.plot.line(x='dayofyear', color='blue', alpha=0, label='_nolegend_')\n",
    "ssp370_2060.plot.line(x='dayofyear', color='blue', alpha=0, label='_nolegend_')\n",
    "ssp370_historical.plot.line(x='dayofyear', color='blue', alpha=0, label='_nolegend_')\n",
    "sim_resampled.plot(label='Simulated Historical', color='red')\n",
    "\n",
    "# Fill between lines\n",
    "plt.fill_between(ssp370_2030['dayofyear'], ssp370_2030.min(dim='member'), ssp370_2030.max(dim='member'), color='indigo', alpha=0.2)\n",
    "plt.fill_between(ssp370_2060['dayofyear'], ssp370_2060.min(dim='member'), ssp370_2060.max(dim='member'), color='blue', alpha=0.2)\n",
    "plt.fill_between(ssp370_historical['dayofyear'], ssp370_historical.min(dim='member'), ssp370_historical.max(dim='member'), color='darkcyan', alpha=0.2)\n",
    "\n",
    "# Plot the mean of each ensemble\n",
    "ssp370_2030_mean = ssp370_2030.mean(dim='member')\n",
    "ssp370_2060_mean = ssp370_2060.mean(dim='member')\n",
    "ssp370_historical_mean = ssp370_historical.mean(dim='member')\n",
    "\n",
    "ssp370_2030_mean.plot(color='indigo', linestyle='-', label='ssp370 2030-2060 Mean')\n",
    "ssp370_2060_mean.plot(color='blue', linestyle='-', label='ssp370 2060-2090 Mean')\n",
    "ssp370_historical_mean.plot(color='darkcyan', linestyle='-', label='ssp370 Historical Mean')\n",
    "\n",
    "\n",
    "# Manually create legend handles and labels\n",
    "legend_handles = [\n",
    "    Patch(facecolor='indigo', alpha=0.2, label=f'ssp370 2030-2060'),\n",
    "    Patch(facecolor='blue', alpha=0.2, label=f'ssp370 2060-2090'),\n",
    "    Patch(facecolor='darkcyan', alpha=0.2, label=f'ssp370 Historical'),\n",
    "    Line2D([0], [0], color='red', lw=2, label='RDRSv2 Historical'),\n",
    "    Line2D([0], [0], color='indigo', lw=2, linestyle='-', label='ssp370 2030-2060 Mean'),\n",
    "    Line2D([0], [0], color='blue', lw=2, linestyle='-', label='ssp370 2060-2090 Mean'),\n",
    "    Line2D([0], [0], color='darkcyan', lw=2, linestyle='-', label='ssp370 Historical Mean')\n",
    "]\n",
    "\n",
    "# Add legend with custom handles and labels\n",
    "plt.legend(handles=legend_handles)\n",
    "\n",
    "plt.xlabel('Day of Year (Starting Nov 1st)')\n",
    "plt.ylabel(f'Average Daily {var_name} (cms)')\n",
    "plt.title(f'{gauge_name} Average Daily {var_name}')\n",
    "\n",
    "# Save the plot as PNG\n",
    "plt.savefig(f'{subbasin_id}_ssp_370_all_time_periods_.png')\n",
    "\n",
    "plt.show()\n"
   ]
  },
  {
   "cell_type": "code",
   "execution_count": null,
   "id": "d6753c0b-cfdd-4594-b7af-9007ede167d2",
   "metadata": {},
   "outputs": [],
   "source": [
    "# Set the figure size\n",
    "plt.figure(figsize=(16, 8))  # Adjust width and height as needed\n",
    "\n",
    "# Plotting each member directly with specified colors and labels\n",
    "ssp585_2030.plot.line(x='dayofyear', color='blue', alpha=0, label='_nolegend_')\n",
    "ssp585_2060.plot.line(x='dayofyear', color='blue', alpha=0, label='_nolegend_')\n",
    "ssp585_historical.plot.line(x='dayofyear', color='blue', alpha=0, label='_nolegend_')\n",
    "sim_resampled.plot(label='Simulated Historical', color='red')\n",
    "\n",
    "# Fill between lines\n",
    "plt.fill_between(ssp585_2030['dayofyear'], ssp585_2030.min(dim='member'), ssp585_2030.max(dim='member'), color='indigo', alpha=0.2)\n",
    "plt.fill_between(ssp585_2060['dayofyear'], ssp585_2060.min(dim='member'), ssp585_2060.max(dim='member'), color='blue', alpha=0.2)\n",
    "plt.fill_between(ssp585_historical['dayofyear'], ssp585_historical.min(dim='member'), ssp585_historical.max(dim='member'), color='darkcyan', alpha=0.2)\n",
    "\n",
    "# Plot the mean of each ensemble\n",
    "ssp585_2030_mean = ssp585_2030.mean(dim='member')\n",
    "ssp585_2060_mean = ssp585_2060.mean(dim='member')\n",
    "ssp585_historical_mean = ssp585_historical.mean(dim='member')\n",
    "\n",
    "ssp585_2030_mean.plot(color='indigo', linestyle='-', label='ssp585 2030-2060 Mean')\n",
    "ssp585_2060_mean.plot(color='blue', linestyle='-', label='ssp585 2060-2090 Mean')\n",
    "ssp585_historical_mean.plot(color='darkcyan', linestyle='-', label='ssp585 Historical Mean')\n",
    "\n",
    "\n",
    "# Manually create legend handles and labels\n",
    "legend_handles = [\n",
    "    Patch(facecolor='indigo', alpha=0.2, label=f'ssp585 2030-2060'),\n",
    "    Patch(facecolor='blue', alpha=0.2, label=f'ssp585 2060-2090'),\n",
    "    Patch(facecolor='darkcyan', alpha=0.2, label=f'ssp585 Historical'),\n",
    "    Line2D([0], [0], color='red', lw=2, label='RDRSv2 Historical'),\n",
    "    Line2D([0], [0], color='indigo', lw=2, linestyle='-', label='ssp585 2030-2060 Mean'),\n",
    "    Line2D([0], [0], color='blue', lw=2, linestyle='-', label='ssp585 2060-2090 Mean'),\n",
    "    Line2D([0], [0], color='darkcyan', lw=2, linestyle='-', label='ssp585 Historical Mean')\n",
    "]\n",
    "\n",
    "# Add legend with custom handles and labels\n",
    "plt.legend(handles=legend_handles)\n",
    "\n",
    "plt.xlabel('Day of Year (Starting Nov 1st)')\n",
    "plt.ylabel(f'Average Daily {var_name} (cms)')\n",
    "plt.title(f'{gauge_name} Average Daily {var_name}')\n",
    "\n",
    "# Save the plot as PNG\n",
    "plt.savefig(f'{subbasin_id}_ssp_585_all_time_periods_.png')\n",
    "\n",
    "plt.show()\n"
   ]
  },
  {
   "cell_type": "code",
   "execution_count": null,
   "id": "097a2d17-9efe-4340-b39f-3d26fad68745",
   "metadata": {},
   "outputs": [],
   "source": []
  },
  {
   "cell_type": "code",
   "execution_count": null,
   "id": "bcabd985-b1b2-4723-b2bb-7421d7fcd463",
   "metadata": {},
   "outputs": [],
   "source": []
  },
  {
   "cell_type": "code",
   "execution_count": null,
   "id": "03e6ea76-5a13-4051-8906-e1bea344ac27",
   "metadata": {},
   "outputs": [],
   "source": []
  }
 ],
 "metadata": {
  "kernelspec": {
   "display_name": "Python 3 (ipykernel)",
   "language": "python",
   "name": "python3"
  },
  "language_info": {
   "codemirror_mode": {
    "name": "ipython",
    "version": 3
   },
   "file_extension": ".py",
   "mimetype": "text/x-python",
   "name": "python",
   "nbconvert_exporter": "python",
   "pygments_lexer": "ipython3",
   "version": "3.10.13"
  }
 },
 "nbformat": 4,
 "nbformat_minor": 5
}
