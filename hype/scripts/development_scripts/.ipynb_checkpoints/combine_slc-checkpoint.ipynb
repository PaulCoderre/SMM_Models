{
 "cells": [
  {
   "cell_type": "code",
   "execution_count": null,
   "id": "e07f7e7d-975a-468c-a88b-49d1f7932f2e",
   "metadata": {},
   "outputs": [],
   "source": [
    "import pandas as pd"
   ]
  },
  {
   "cell_type": "code",
   "execution_count": null,
   "id": "f5698d24-38a1-45f6-899a-ee6a837be838",
   "metadata": {},
   "outputs": [],
   "source": [
    "stmary = pd.read_csv('../geospacial/slc/stmary_landsat_slc.csv', index_col=0)"
   ]
  },
  {
   "cell_type": "code",
   "execution_count": null,
   "id": "0cf79634-afe2-4690-bb2e-26bb956a530d",
   "metadata": {},
   "outputs": [],
   "source": [
    "milk= pd.read_csv('../geospacial/slc/milk_landsat_slc.csv', index_col=0)"
   ]
  },
  {
   "cell_type": "markdown",
   "id": "e3184743-10b1-4e71-af7f-b4834a0ecdd1",
   "metadata": {},
   "source": [
    "### Clean up SLCs"
   ]
  },
  {
   "cell_type": "code",
   "execution_count": null,
   "id": "4f7a100d-6eeb-4638-963d-3855d04adf9d",
   "metadata": {},
   "outputs": [],
   "source": [
    "len(stmary.columns)"
   ]
  },
  {
   "cell_type": "code",
   "execution_count": null,
   "id": "7f96ca91-dd21-42d2-a3ba-10571377abcb",
   "metadata": {},
   "outputs": [],
   "source": [
    "len(milk.columns)"
   ]
  },
  {
   "cell_type": "code",
   "execution_count": null,
   "id": "7e4b7aad-ac23-49da-a838-c20c4ada3f16",
   "metadata": {
    "tags": []
   },
   "outputs": [],
   "source": [
    "# Remove columns with only zero values\n",
    "stmary = stmary.loc[:, (stmary != 0).any(axis=0)]\n",
    "milk= milk.loc[:, (milk != 0).any(axis=0)]"
   ]
  },
  {
   "cell_type": "code",
   "execution_count": null,
   "id": "7771d7de-8e91-4a57-8b11-f21d98e33efe",
   "metadata": {},
   "outputs": [],
   "source": [
    "len(stmary.columns)"
   ]
  },
  {
   "cell_type": "code",
   "execution_count": null,
   "id": "37b6510c-5a47-40a5-a8e2-d16d426ea99d",
   "metadata": {},
   "outputs": [],
   "source": [
    "len(milk.columns)"
   ]
  },
  {
   "cell_type": "code",
   "execution_count": null,
   "id": "e20e73ac-2a8f-4488-a545-37a2977a9993",
   "metadata": {},
   "outputs": [],
   "source": [
    "# Check if all St. Mary rows sum to the target value within tolerance\n",
    "all_rows_sum_to_zero = ((stmary.sum(axis=1) - 1).abs() < 0.00000000001).all()\n",
    "\n",
    "if all_rows_sum_to_zero:\n",
    "    print(\"All St. Mary rows sum to zero.\")\n",
    "else:\n",
    "    print(\"Not St. Mary all rows sum to zero.\")"
   ]
  },
  {
   "cell_type": "code",
   "execution_count": null,
   "id": "00e6a52d-b097-45c4-9ee2-1490b6c97218",
   "metadata": {},
   "outputs": [],
   "source": [
    "# Check if all Milk rows sum to the target value within tolerance\n",
    "all_rows_sum_to_zero = ((stmary.sum(axis=1) - 1).abs() < 0.00000000001).all()\n",
    "\n",
    "if all_rows_sum_to_zero:\n",
    "    print(\"All Milk rows sum to zero.\")\n",
    "else:\n",
    "    print(\"Not Milk all rows sum to zero.\")"
   ]
  },
  {
   "cell_type": "markdown",
   "id": "f74e1e14-5d04-474b-9517-3ac4100c9a2d",
   "metadata": {},
   "source": [
    "### Format St. Mary"
   ]
  },
  {
   "cell_type": "code",
   "execution_count": null,
   "id": "53373ba8-70ed-446a-9fb6-9e4403286229",
   "metadata": {},
   "outputs": [],
   "source": [
    "stmary"
   ]
  },
  {
   "cell_type": "code",
   "execution_count": null,
   "id": "21f1f9c9-e00d-4c79-a2c1-7a9346f7a927",
   "metadata": {},
   "outputs": [],
   "source": [
    "# Iterate over column names and update them\n",
    "new_columns = []\n",
    "for column_name in stmary.columns:\n",
    "    if len(column_name) == 3:\n",
    "        column_name = '0' + column_name  # Add leading zero if the column name has 3 digits\n",
    "    first_part = str(int(column_name[:2]) + 19) # add 19 for 19 landsat classes\n",
    "    second_part = str(int(column_name[2:]) + 14) # add 13 for 13 soil type classes + 2 to avoid 0 and double 13\n",
    "    new_column_name = first_part + second_part\n",
    "    new_columns.append(new_column_name)"
   ]
  },
  {
   "cell_type": "code",
   "execution_count": null,
   "id": "e64ec47c-6c9b-47cd-b9cc-5dbb4e18a3bf",
   "metadata": {},
   "outputs": [],
   "source": [
    "# Rename the columns\n",
    "stmary.columns = new_columns"
   ]
  },
  {
   "cell_type": "code",
   "execution_count": null,
   "id": "d68ea183-f02b-4774-8a2c-84680e968f3e",
   "metadata": {},
   "outputs": [],
   "source": [
    "stmary"
   ]
  },
  {
   "cell_type": "markdown",
   "id": "053866f3-5c1c-48f9-822b-e091cd255c03",
   "metadata": {},
   "source": [
    "### Reformat Milk"
   ]
  },
  {
   "cell_type": "code",
   "execution_count": null,
   "id": "7c130e75-e001-4eab-a332-907ea02cf7f9",
   "metadata": {},
   "outputs": [],
   "source": [
    "milk"
   ]
  },
  {
   "cell_type": "code",
   "execution_count": null,
   "id": "02d89303-3e85-48e7-b848-a931b6767bbf",
   "metadata": {},
   "outputs": [],
   "source": [
    "# Iterate over column names and update them\n",
    "new_column_names = []\n",
    "for column_name in milk.columns:\n",
    "    # Add leading zero to ensure each part has two digits\n",
    "    column_name = column_name.zfill(4)\n",
    "    \n",
    "    # Add 1 to the second part\n",
    "    second_part_updated = str(int(column_name[2:]) + 1).zfill(2) # add 1 to avoid 0 for soil type\n",
    "    \n",
    "    # Combine the first part and the updated second part\n",
    "    new_column_name = column_name[:2] + second_part_updated\n",
    "    \n",
    "    new_column_names.append(new_column_name)"
   ]
  },
  {
   "cell_type": "code",
   "execution_count": null,
   "id": "59f23086-3e11-45ba-a475-1f7e568d9835",
   "metadata": {},
   "outputs": [],
   "source": [
    "# Rename the columns\n",
    "milk.columns = new_column_names"
   ]
  },
  {
   "cell_type": "code",
   "execution_count": null,
   "id": "77a3e518-b738-4944-b866-fa2d9a463655",
   "metadata": {},
   "outputs": [],
   "source": [
    "milk"
   ]
  },
  {
   "cell_type": "markdown",
   "id": "e3dd2288-d090-4699-bbde-7de7725460ab",
   "metadata": {
    "tags": []
   },
   "source": [
    "### Merge the SLCs together"
   ]
  },
  {
   "cell_type": "code",
   "execution_count": null,
   "id": "bde8c72f-9bb7-4871-bf3f-8e8e5538c0e5",
   "metadata": {},
   "outputs": [],
   "source": [
    "# Concatenate the DataFrames vertically\n",
    "slc = pd.concat([milk, stmary], axis=0)"
   ]
  },
  {
   "cell_type": "code",
   "execution_count": null,
   "id": "cb782836-8d01-4397-a711-e7aa3de202e4",
   "metadata": {},
   "outputs": [],
   "source": [
    "# Assuming result_df is your concatenated DataFrame\n",
    "slc.fillna(0, inplace=True)"
   ]
  },
  {
   "cell_type": "code",
   "execution_count": null,
   "id": "be98342c-93f5-4aee-9e7e-671470e01a17",
   "metadata": {},
   "outputs": [],
   "source": [
    "slc"
   ]
  },
  {
   "cell_type": "code",
   "execution_count": null,
   "id": "ce1a646f-d78c-4934-91c2-b66125d2421b",
   "metadata": {},
   "outputs": [],
   "source": [
    "# Check if allrows sum to the target value within tolerance\n",
    "all_rows_sum_to_zero = ((slc.sum(axis=1) - 1).abs() < 0.00000000001).all()\n",
    "\n",
    "if all_rows_sum_to_zero:\n",
    "    print(\"All rows sum to zero.\")\n",
    "else:\n",
    "    print(\"Not all rows sum to zero.\")"
   ]
  },
  {
   "cell_type": "markdown",
   "id": "0cb45a6b-fa16-4b51-867d-a43cd660dc0a",
   "metadata": {},
   "source": [
    "### remap SLC names to remove missing classes"
   ]
  },
  {
   "cell_type": "code",
   "execution_count": null,
   "id": "74427584-0b44-4dde-b0b3-19855c19ac99",
   "metadata": {},
   "outputs": [],
   "source": [
    "# Assuming 'df' is your DataFrame containing the original column names\n",
    "original_headers = slc.columns.tolist()\n",
    "new_columns = []"
   ]
  },
  {
   "cell_type": "code",
   "execution_count": null,
   "id": "5b342c77-ea59-4ea3-9628-f67f8aec2ba3",
   "metadata": {},
   "outputs": [],
   "source": [
    "# Step 1: Separate 4-digit numbers into two 2-digit numbers\n",
    "separated_numbers = [(int(str(col)[:2]), int(str(col)[2:])) for col in slc.columns]"
   ]
  },
  {
   "cell_type": "code",
   "execution_count": null,
   "id": "af07fd18-4f6e-4f64-92a2-14b9a692d3b7",
   "metadata": {},
   "outputs": [],
   "source": [
    "# Step 2: Find the amount of unique values in the arrays of first 2 letters and last 2 letters\n",
    "unique_first = len(set(first for first, _ in separated_numbers))\n",
    "unique_second = len(set(second for _, second in separated_numbers))"
   ]
  },
  {
   "cell_type": "code",
   "execution_count": null,
   "id": "0a359564-dd2b-4d63-99d4-8637004ff34e",
   "metadata": {},
   "outputs": [],
   "source": [
    "# Step 3: Map each unique 2-digit number to a number in the list of unique values in ascending order\n",
    "mapped_first = {num: i + 1 for i, num in enumerate(sorted(set(first for first, _ in separated_numbers)))}\n",
    "mapped_second = {num: i + 1 for i, num in enumerate(sorted(set(second for _, second in separated_numbers)))}"
   ]
  },
  {
   "cell_type": "code",
   "execution_count": null,
   "id": "95c28f0d-29f9-4128-b050-cb19d89c7f49",
   "metadata": {},
   "outputs": [],
   "source": [
    "# Step 4: Replace each pair of 2-digit numbers with their corresponding mapped values\n",
    "new_columns = [(mapped_first[first], mapped_second[second]) for first, second in separated_numbers]"
   ]
  },
  {
   "cell_type": "code",
   "execution_count": null,
   "id": "d65545aa-a700-474e-852e-00d079e22de6",
   "metadata": {},
   "outputs": [],
   "source": [
    "# Step 5: Rename columns in the DataFrame 'slc' to match the new column names\n",
    "new_headers = [f\"{first:02d}{second:02d}\" for first, second in new_columns]\n",
    "slc.rename(columns=dict(zip(original_headers, new_headers)), inplace=True)"
   ]
  },
  {
   "cell_type": "code",
   "execution_count": null,
   "id": "11db280f-040c-4dba-94b1-1ec46ece9e62",
   "metadata": {},
   "outputs": [],
   "source": [
    "# Step 7: Check column names in the DataFrame 'slc' after renaming\n",
    "for column_name in slc.columns:\n",
    "    if len(column_name) != 4:\n",
    "        raise ValueError(\"Some column names do not have four digits after renaming.\")"
   ]
  },
  {
   "cell_type": "code",
   "execution_count": null,
   "id": "88c609c9-44f0-453e-b168-d44d4867cf29",
   "metadata": {},
   "outputs": [],
   "source": [
    "# Save mapped_first to a text file called 'adjusted_landuse.txt'\n",
    "with open('../geospacial/adjusted_landuse.txt', 'w') as file:\n",
    "    for key, value in mapped_first.items():\n",
    "        file.write(f\"{key}: {value}\\n\")"
   ]
  },
  {
   "cell_type": "code",
   "execution_count": null,
   "id": "54e45b03-fd67-4f45-a406-243d624aa3c7",
   "metadata": {},
   "outputs": [],
   "source": [
    "# Save mapped_second to a text file called 'adjusted_soiltype.txt'\n",
    "with open('../geospacial/adjusted_soiltype.txt', 'w') as file:\n",
    "    for key, value in mapped_second.items():\n",
    "        file.write(f\"{key}: {value}\\n\")"
   ]
  },
  {
   "cell_type": "code",
   "execution_count": null,
   "id": "f946328d-4add-44cf-9953-86cfc5bcc9ea",
   "metadata": {},
   "outputs": [],
   "source": [
    "slc"
   ]
  },
  {
   "cell_type": "markdown",
   "id": "fe09aa65-3c15-4e6e-86dc-a7a95805fa0e",
   "metadata": {},
   "source": [
    "### Re-order columns in ascending order"
   ]
  },
  {
   "cell_type": "code",
   "execution_count": null,
   "id": "7cdc0196-66ef-45e5-b1c3-95d192ae764a",
   "metadata": {},
   "outputs": [],
   "source": [
    "# Sort columns in ascending order of first 2 digits and then the second 2 digits\n",
    "slc_sorted = slc.reindex(sorted(slc.columns, key=lambda x: (int(x[:2]), int(x[2:]))), axis=1)"
   ]
  },
  {
   "cell_type": "code",
   "execution_count": null,
   "id": "f89bc8d6-4b2b-4ee9-82c0-555a25676567",
   "metadata": {},
   "outputs": [],
   "source": [
    "slc_sorted"
   ]
  },
  {
   "cell_type": "code",
   "execution_count": null,
   "id": "ef3a2643-1f0f-4873-a09e-2a667744fbde",
   "metadata": {},
   "outputs": [],
   "source": [
    "# Save the DataFrame as a CSV file\n",
    "slc_sorted.to_csv('../geospacial/slc/sorted_final_slc.csv')"
   ]
  },
  {
   "cell_type": "code",
   "execution_count": null,
   "id": "1b4512c4-c5cf-4578-a1a1-18d875a39214",
   "metadata": {},
   "outputs": [],
   "source": []
  }
 ],
 "metadata": {
  "kernelspec": {
   "display_name": "easymore-env",
   "language": "python",
   "name": "easymore-env"
  },
  "language_info": {
   "codemirror_mode": {
    "name": "ipython",
    "version": 3
   },
   "file_extension": ".py",
   "mimetype": "text/x-python",
   "name": "python",
   "nbconvert_exporter": "python",
   "pygments_lexer": "ipython3",
   "version": "3.8.10"
  }
 },
 "nbformat": 4,
 "nbformat_minor": 5
}
