{
 "cells": [
  {
   "cell_type": "code",
   "execution_count": 1,
   "id": "58259463-a0d2-489b-8b8b-d71055fdb73c",
   "metadata": {},
   "outputs": [],
   "source": [
    "import pandas as pd"
   ]
  },
  {
   "cell_type": "code",
   "execution_count": 12,
   "id": "fe9d5071-f874-47d1-a290-79cad4c992ce",
   "metadata": {},
   "outputs": [],
   "source": [
    "nhm= pd.read_excel('../../geospacial/misc/nhm_elev.xlsx', index_col=0)"
   ]
  },
  {
   "cell_type": "code",
   "execution_count": 13,
   "id": "9da8292f-ef40-43ab-ad6f-405d444a87fa",
   "metadata": {},
   "outputs": [],
   "source": [
    "elev= pd.read_csv('../../geospacial/misc/lat_stats.csv',index_col=0)"
   ]
  },
  {
   "cell_type": "code",
   "execution_count": 14,
   "id": "2b0d99d6-73af-4dc4-9fed-660031444c13",
   "metadata": {},
   "outputs": [],
   "source": [
    "nhm.index= nhm.index.astype(int)\n",
    "elev.index= elev.index.astype(int)"
   ]
  },
  {
   "cell_type": "code",
   "execution_count": 15,
   "id": "f43eb7d1-8dfc-42bb-abe7-8fdec4eaec43",
   "metadata": {},
   "outputs": [],
   "source": [
    "# Merge elev and nhm DataFrames based on index\n",
    "elev = elev.merge(nhm, left_index=True, right_index=True, how='left')"
   ]
  },
  {
   "cell_type": "code",
   "execution_count": 16,
   "id": "cfa2d54c-3298-4fcf-a382-26bc8702268b",
   "metadata": {},
   "outputs": [],
   "source": [
    "elev['difference']= elev['mean'] - elev['nhm_mean']"
   ]
  },
  {
   "cell_type": "code",
   "execution_count": 7,
   "id": "9fb0faa3-fbfa-4a99-8a8a-40ad6a848ad5",
   "metadata": {},
   "outputs": [],
   "source": [
    "elev = elev.drop(columns=['difference'])"
   ]
  },
  {
   "cell_type": "code",
   "execution_count": 8,
   "id": "8e11cf3e-4562-4473-a9be-5400cabe5e02",
   "metadata": {},
   "outputs": [],
   "source": [
    "elev = elev.drop(columns=['mean'])"
   ]
  },
  {
   "cell_type": "code",
   "execution_count": 9,
   "id": "454f078c-58f6-4f1e-b2c1-4d75ddfa7b70",
   "metadata": {},
   "outputs": [],
   "source": [
    "# Rename a column in the elev DataFrame\n",
    "elev = elev.rename(columns={'nhm_mean': 'mean'})"
   ]
  },
  {
   "cell_type": "code",
   "execution_count": 11,
   "id": "30445532-fca3-4337-a920-cb8ddbb4294d",
   "metadata": {},
   "outputs": [],
   "source": [
    "elev.to_excel('../../geospacial/misc/lat_lon_elev.xlsx')"
   ]
  },
  {
   "cell_type": "code",
   "execution_count": null,
   "id": "d459aeda-9590-4ef7-9c63-ddc10ee01c8f",
   "metadata": {},
   "outputs": [],
   "source": []
  }
 ],
 "metadata": {
  "kernelspec": {
   "display_name": "Python 3 (ipykernel)",
   "language": "python",
   "name": "python3"
  },
  "language_info": {
   "codemirror_mode": {
    "name": "ipython",
    "version": 3
   },
   "file_extension": ".py",
   "mimetype": "text/x-python",
   "name": "python",
   "nbconvert_exporter": "python",
   "pygments_lexer": "ipython3",
   "version": "3.10.13"
  }
 },
 "nbformat": 4,
 "nbformat_minor": 5
}
