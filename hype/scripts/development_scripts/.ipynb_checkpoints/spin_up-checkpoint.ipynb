{
 "cells": [
  {
   "cell_type": "code",
   "execution_count": 1,
   "id": "db009a62-aa33-4de1-aaae-8846185e9cd6",
   "metadata": {},
   "outputs": [],
   "source": [
    "import pandas as pd\n",
    "import numpy as np"
   ]
  },
  {
   "cell_type": "code",
   "execution_count": 2,
   "id": "9e6198f5-876c-42c0-b19b-87687cdd7ba9",
   "metadata": {},
   "outputs": [],
   "source": [
    "# Define Forcing Paths\n",
    "forcing_paths = [\n",
    "    '../../model/model_versions/v_8/v8_0/Pobs.txt',\n",
    "    '../../model/model_versions/v_8/v8_0/Tobs.txt',\n",
    "    '../../model/model_versions/v_8/v8_0/TMAXobs.txt',\n",
    "    '../../model/model_versions/v_8/v8_0/TMINobs.txt'\n",
    "]"
   ]
  },
  {
   "cell_type": "code",
   "execution_count": 3,
   "id": "2b08ee88-5b0c-47d1-ad60-90036a30bac8",
   "metadata": {},
   "outputs": [],
   "source": [
    "for path in forcing_paths:\n",
    "    # read path as csv\n",
    "    forcing= pd.read_csv(path, index_col=0, sep='\\t')\n",
    "\n",
    "    # Ensure the index is datetime\n",
    "    forcing.index = pd.to_datetime(forcing.index)\n",
    "    \n",
    "    # Define the new date range that starts before 'forcings' and fills the gap\n",
    "    start_date = '1960-01-01'\n",
    "    end_date = forcing.index[0] - pd.Timedelta(days=1)\n",
    "    new_date_range = pd.date_range(start=start_date, end=end_date, freq='D')\n",
    "    \n",
    "    # Calculate how many times the original data needs to be repeated to cover the new date range\n",
    "    num_repeats = len(new_date_range) // len(forcing) + 1\n",
    "    \n",
    "    # Repeat the original 'forcings' data to match the length of 'new_date_range'\n",
    "    repeated_data = pd.DataFrame(np.tile(forcing.values, (num_repeats, 1)), columns=forcing.columns)[:len(new_date_range)]\n",
    "    \n",
    "    # Assign 'new_date_range' as the index for the repeated data\n",
    "    repeated_data.index = new_date_range\n",
    "    \n",
    "    # Concatenate the repeated data with the original 'forcings' DataFrame\n",
    "    extended_forcings = pd.concat([repeated_data, forcing])\n",
    "\n",
    "        # Name the index as \"time\"\n",
    "    extended_forcings.index.name = \"time\"\n",
    "    \n",
    "        # Save extended_forcings to the original file path\n",
    "    extended_forcings.to_csv(path, sep='\\t')\n"
   ]
  }
 ],
 "metadata": {
  "kernelspec": {
   "display_name": "Python 3 (ipykernel)",
   "language": "python",
   "name": "python3"
  },
  "language_info": {
   "codemirror_mode": {
    "name": "ipython",
    "version": 3
   },
   "file_extension": ".py",
   "mimetype": "text/x-python",
   "name": "python",
   "nbconvert_exporter": "python",
   "pygments_lexer": "ipython3",
   "version": "3.10.13"
  }
 },
 "nbformat": 4,
 "nbformat_minor": 5
}
