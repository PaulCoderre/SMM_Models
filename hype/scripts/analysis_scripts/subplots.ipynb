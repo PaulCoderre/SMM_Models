{
 "cells": [
  {
   "cell_type": "markdown",
   "id": "3fe3f683-4f41-4ce4-a3eb-9f2962c4440f",
   "metadata": {},
   "source": [
    "Note: make top line #!/usr/bin/env python"
   ]
  },
  {
   "cell_type": "code",
   "execution_count": 6,
   "id": "370a9097-0137-4ef9-8a79-37ae07fffe0c",
   "metadata": {},
   "outputs": [],
   "source": [
    "import subprocess\n",
    "import os\n",
    "import pandas as pd\n",
    "import numpy as np\n",
    "from typing import Tuple\n",
    "import matplotlib.pyplot as plt"
   ]
  },
  {
   "cell_type": "code",
   "execution_count": 7,
   "id": "06654378-d1ce-498e-9266-d2f220cb953b",
   "metadata": {},
   "outputs": [
    {
     "name": "stdout",
     "output_type": "stream",
     "text": [
      "Here: /home/paulc600/local/final_smm/StMaryMilk2023-UofC/models/hype/scripts/analysis_scripts\n"
     ]
    }
   ],
   "source": [
    "# In[2]:\n",
    "cwd = os.getcwd()\n",
    "print(f'Here: {cwd}')"
   ]
  },
  {
   "cell_type": "code",
   "execution_count": 8,
   "id": "6eb58cf0-efb5-40ab-a576-9998689cd64a",
   "metadata": {},
   "outputs": [],
   "source": [
    "# Directory where Hype outputs are saved\n",
    "file_path= '../../model/results/'"
   ]
  },
  {
   "cell_type": "code",
   "execution_count": null,
   "id": "a2b3ae68-3d6f-4380-90e6-d1c4fc8553b1",
   "metadata": {},
   "outputs": [],
   "source": [
    "# Count the number of files with prefix '00' and end with '.txt'\n",
    "num_files = sum(1 for filename in os.listdir(file_path) if filename.endswith(\".txt\") and filename.startswith(\"q00\"))\n",
    "\n",
    "# Create a new figure\n",
    "fig, axs = plt.subplots(num_files, 1, figsize=(10, 6*num_files))\n",
    "\n",
    "# Counter for valid files\n",
    "plot_count = 0\n",
    "\n",
    "# Iterate through files in the output directory\n",
    "for i, filename in enumerate(os.listdir(file_path)):\n",
    "    if filename.endswith(\".txt\") and filename.startswith(\"00\"):  # Process files with prefix '00' and end with '.txt'\n",
    "        filepath = os.path.join(file_path, filename)\n",
    "        \n",
    "        # Read tab-separated file into DataFrame\n",
    "        df = pd.read_csv(filepath, sep='\\t', index_col=0)\n",
    "        df = df.iloc[1:]  # Drop the first row\n",
    "\n",
    "        # Convert the index to datetime if it's not already in datetime format\n",
    "        if not isinstance(df.index, pd.DatetimeIndex):\n",
    "            df.index = pd.to_datetime(df.index)\n",
    "\n",
    "        # Plot the data in the corresponding subplot if there are enough subplots\n",
    "        if plot_count < num_files:\n",
    "            axs[plot_count].plot(df.index, df['cout'], label='Simulated')  # Plot 'cout' vs index\n",
    "            axs[plot_count].plot(df.index, df['rout'], label='Observed')   # Plot 'rout' vs index\n",
    "\n",
    "            # Set labels and legend\n",
    "            axs[plot_count].set_xlabel('Date')\n",
    "            axs[plot_count].set_ylabel('Value')\n",
    "            axs[plot_count].set_title(filename)\n",
    "            axs[plot_count].legend()\n",
    "\n",
    "            plot_count += 1\n",
    "\n",
    "# Adjust layout\n",
    "plt.tight_layout()\n",
    "\n",
    "# Display plots\n",
    "plt.show()"
   ]
  },
  {
   "cell_type": "code",
   "execution_count": null,
   "id": "1e6f136d-4f7e-4c08-87b2-8e7ca0476d20",
   "metadata": {},
   "outputs": [],
   "source": []
  }
 ],
 "metadata": {
  "kernelspec": {
   "display_name": "easymore-env",
   "language": "python",
   "name": "easymore-env"
  },
  "language_info": {
   "codemirror_mode": {
    "name": "ipython",
    "version": 3
   },
   "file_extension": ".py",
   "mimetype": "text/x-python",
   "name": "python",
   "nbconvert_exporter": "python",
   "pygments_lexer": "ipython3",
   "version": "3.8.10"
  }
 },
 "nbformat": 4,
 "nbformat_minor": 5
}
