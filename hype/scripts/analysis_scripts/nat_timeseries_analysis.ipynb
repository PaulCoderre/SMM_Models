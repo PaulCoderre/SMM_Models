{
 "cells": [
  {
   "cell_type": "code",
   "execution_count": 1,
   "id": "cb5d0d2e-e05f-4205-9d55-663475a329cc",
   "metadata": {},
   "outputs": [],
   "source": [
    "import pandas as pd\n",
    "import matplotlib.pyplot as plt"
   ]
  },
  {
   "cell_type": "markdown",
   "id": "5f06fc3c-7600-46a1-b9fc-4d309bfc0753",
   "metadata": {},
   "source": [
    "### Inputs"
   ]
  },
  {
   "cell_type": "code",
   "execution_count": 2,
   "id": "f9cd800d-4749-4845-a810-038734ed9a8a",
   "metadata": {},
   "outputs": [],
   "source": [
    "# import observed flow\n",
    "qobs= pd.read_csv('../../model/seperate_cal/combined_model/Qobs.txt',sep='\\t',index_col=0)\n",
    "gauge_id= 58363"
   ]
  },
  {
   "cell_type": "markdown",
   "id": "b4390670-505c-4ed6-a067-a9634894a200",
   "metadata": {},
   "source": [
    "### Analysis"
   ]
  },
  {
   "cell_type": "code",
   "execution_count": 3,
   "id": "64edcc71-f789-4647-b963-873756fd09e8",
   "metadata": {},
   "outputs": [],
   "source": [
    "# set index as datetime\n",
    "qobs.index = pd.to_datetime(qobs.index)\n",
    "# set headers as int\n",
    "qobs.columns = qobs.columns.astype(int)"
   ]
  },
  {
   "cell_type": "code",
   "execution_count": 4,
   "id": "665aaeaa-e6cf-43e9-b181-4d8ed426f829",
   "metadata": {},
   "outputs": [],
   "source": [
    "# Create the new DataFrame with the index and the specified column\n",
    "gauge = pd.DataFrame({\n",
    "    'Flow': qobs[gauge_id]  # Column specified by gauge_id\n",
    "})"
   ]
  },
  {
   "cell_type": "code",
   "execution_count": 5,
   "id": "f348827f-8155-4455-8490-a82aac2482ce",
   "metadata": {},
   "outputs": [],
   "source": [
    "# Convert 'Value' column to numeric, forcing errors to NaN\n",
    "gauge['Flow'] = pd.to_numeric(gauge['Flow'], errors='coerce')"
   ]
  },
  {
   "cell_type": "code",
   "execution_count": 6,
   "id": "ff0597e7-28d3-4e00-b165-2c6cee2da2b2",
   "metadata": {},
   "outputs": [],
   "source": [
    "# Count occurrences of -9999 per year\n",
    "def count_missing_dates(df):\n",
    "    # Create a water year period\n",
    "    df['WaterYear'] = df.index.to_period('A-SEP')\n",
    "    # Count occurrences of -9999 per year\n",
    "    count_per_year = (df == -9999).groupby(df['WaterYear']).sum()\n",
    "    # Drop the WaterYear column\n",
    "    return count_per_year.drop(columns='WaterYear', errors='ignore')"
   ]
  },
  {
   "cell_type": "code",
   "execution_count": 7,
   "id": "ecb55da8-2583-4b50-b872-dd8152f45552",
   "metadata": {},
   "outputs": [],
   "source": [
    "# Count -9999 values\n",
    "missing_count = count_missing_dates(gauge)"
   ]
  },
  {
   "cell_type": "code",
   "execution_count": 8,
   "id": "f76f59b8-691f-4062-8c15-8e6081f6b8f3",
   "metadata": {},
   "outputs": [
    {
     "data": {
      "text/html": [
       "<div>\n",
       "<style scoped>\n",
       "    .dataframe tbody tr th:only-of-type {\n",
       "        vertical-align: middle;\n",
       "    }\n",
       "\n",
       "    .dataframe tbody tr th {\n",
       "        vertical-align: top;\n",
       "    }\n",
       "\n",
       "    .dataframe thead th {\n",
       "        text-align: right;\n",
       "    }\n",
       "</style>\n",
       "<table border=\"1\" class=\"dataframe\">\n",
       "  <thead>\n",
       "    <tr style=\"text-align: right;\">\n",
       "      <th></th>\n",
       "      <th>Flow</th>\n",
       "    </tr>\n",
       "    <tr>\n",
       "      <th>WaterYear</th>\n",
       "      <th></th>\n",
       "    </tr>\n",
       "  </thead>\n",
       "  <tbody>\n",
       "    <tr>\n",
       "      <th>1980</th>\n",
       "      <td>60</td>\n",
       "    </tr>\n",
       "    <tr>\n",
       "      <th>1981</th>\n",
       "      <td>115</td>\n",
       "    </tr>\n",
       "    <tr>\n",
       "      <th>1982</th>\n",
       "      <td>120</td>\n",
       "    </tr>\n",
       "    <tr>\n",
       "      <th>1983</th>\n",
       "      <td>120</td>\n",
       "    </tr>\n",
       "    <tr>\n",
       "      <th>1984</th>\n",
       "      <td>121</td>\n",
       "    </tr>\n",
       "    <tr>\n",
       "      <th>1985</th>\n",
       "      <td>120</td>\n",
       "    </tr>\n",
       "    <tr>\n",
       "      <th>1986</th>\n",
       "      <td>116</td>\n",
       "    </tr>\n",
       "    <tr>\n",
       "      <th>1987</th>\n",
       "      <td>120</td>\n",
       "    </tr>\n",
       "    <tr>\n",
       "      <th>1988</th>\n",
       "      <td>121</td>\n",
       "    </tr>\n",
       "    <tr>\n",
       "      <th>1989</th>\n",
       "      <td>120</td>\n",
       "    </tr>\n",
       "    <tr>\n",
       "      <th>1990</th>\n",
       "      <td>120</td>\n",
       "    </tr>\n",
       "    <tr>\n",
       "      <th>1991</th>\n",
       "      <td>120</td>\n",
       "    </tr>\n",
       "    <tr>\n",
       "      <th>1992</th>\n",
       "      <td>121</td>\n",
       "    </tr>\n",
       "    <tr>\n",
       "      <th>1993</th>\n",
       "      <td>90</td>\n",
       "    </tr>\n",
       "    <tr>\n",
       "      <th>1994</th>\n",
       "      <td>90</td>\n",
       "    </tr>\n",
       "    <tr>\n",
       "      <th>1995</th>\n",
       "      <td>90</td>\n",
       "    </tr>\n",
       "    <tr>\n",
       "      <th>1996</th>\n",
       "      <td>121</td>\n",
       "    </tr>\n",
       "    <tr>\n",
       "      <th>1997</th>\n",
       "      <td>120</td>\n",
       "    </tr>\n",
       "    <tr>\n",
       "      <th>1998</th>\n",
       "      <td>120</td>\n",
       "    </tr>\n",
       "    <tr>\n",
       "      <th>1999</th>\n",
       "      <td>120</td>\n",
       "    </tr>\n",
       "    <tr>\n",
       "      <th>2000</th>\n",
       "      <td>121</td>\n",
       "    </tr>\n",
       "    <tr>\n",
       "      <th>2001</th>\n",
       "      <td>120</td>\n",
       "    </tr>\n",
       "    <tr>\n",
       "      <th>2002</th>\n",
       "      <td>120</td>\n",
       "    </tr>\n",
       "    <tr>\n",
       "      <th>2003</th>\n",
       "      <td>120</td>\n",
       "    </tr>\n",
       "    <tr>\n",
       "      <th>2004</th>\n",
       "      <td>121</td>\n",
       "    </tr>\n",
       "    <tr>\n",
       "      <th>2005</th>\n",
       "      <td>92</td>\n",
       "    </tr>\n",
       "    <tr>\n",
       "      <th>2006</th>\n",
       "      <td>120</td>\n",
       "    </tr>\n",
       "    <tr>\n",
       "      <th>2007</th>\n",
       "      <td>120</td>\n",
       "    </tr>\n",
       "    <tr>\n",
       "      <th>2008</th>\n",
       "      <td>121</td>\n",
       "    </tr>\n",
       "    <tr>\n",
       "      <th>2009</th>\n",
       "      <td>120</td>\n",
       "    </tr>\n",
       "    <tr>\n",
       "      <th>2010</th>\n",
       "      <td>120</td>\n",
       "    </tr>\n",
       "    <tr>\n",
       "      <th>2011</th>\n",
       "      <td>120</td>\n",
       "    </tr>\n",
       "    <tr>\n",
       "      <th>2012</th>\n",
       "      <td>121</td>\n",
       "    </tr>\n",
       "    <tr>\n",
       "      <th>2013</th>\n",
       "      <td>120</td>\n",
       "    </tr>\n",
       "    <tr>\n",
       "      <th>2014</th>\n",
       "      <td>118</td>\n",
       "    </tr>\n",
       "    <tr>\n",
       "      <th>2015</th>\n",
       "      <td>120</td>\n",
       "    </tr>\n",
       "    <tr>\n",
       "      <th>2016</th>\n",
       "      <td>61</td>\n",
       "    </tr>\n",
       "  </tbody>\n",
       "</table>\n",
       "</div>"
      ],
      "text/plain": [
       "           Flow\n",
       "WaterYear      \n",
       "1980         60\n",
       "1981        115\n",
       "1982        120\n",
       "1983        120\n",
       "1984        121\n",
       "1985        120\n",
       "1986        116\n",
       "1987        120\n",
       "1988        121\n",
       "1989        120\n",
       "1990        120\n",
       "1991        120\n",
       "1992        121\n",
       "1993         90\n",
       "1994         90\n",
       "1995         90\n",
       "1996        121\n",
       "1997        120\n",
       "1998        120\n",
       "1999        120\n",
       "2000        121\n",
       "2001        120\n",
       "2002        120\n",
       "2003        120\n",
       "2004        121\n",
       "2005         92\n",
       "2006        120\n",
       "2007        120\n",
       "2008        121\n",
       "2009        120\n",
       "2010        120\n",
       "2011        120\n",
       "2012        121\n",
       "2013        120\n",
       "2014        118\n",
       "2015        120\n",
       "2016         61"
      ]
     },
     "execution_count": 8,
     "metadata": {},
     "output_type": "execute_result"
    }
   ],
   "source": [
    "missing_count"
   ]
  },
  {
   "cell_type": "code",
   "execution_count": 9,
   "id": "7de156e4-08c8-426c-a0a6-2a63e8da4e0a",
   "metadata": {},
   "outputs": [],
   "source": [
    "# Drop rows where any column has a value of -9999\n",
    "gauge_filtered = gauge[(gauge != -9999).all(axis=1)].copy()"
   ]
  },
  {
   "cell_type": "code",
   "execution_count": 10,
   "id": "db615f16-0882-48c9-8478-43a1766fdcfb",
   "metadata": {},
   "outputs": [],
   "source": [
    "# Define a function to calculate annual sum for water years\n",
    "def water_year_sum(df):\n",
    "    \n",
    "    # Create a water year period\n",
    "    df['WaterYear'] = df.index.to_period('A-SEP')  # 'A-SEP' indicates water year ending in September\n",
    "\n",
    "    return df.groupby('WaterYear').mean() # use either sum or mean"
   ]
  },
  {
   "cell_type": "code",
   "execution_count": 11,
   "id": "59873890-a476-469b-94b3-ae32ab5a0bd1",
   "metadata": {},
   "outputs": [],
   "source": [
    "# Apply the function\n",
    "annual_sum = water_year_sum(gauge_filtered)"
   ]
  },
  {
   "cell_type": "code",
   "execution_count": 12,
   "id": "723af94e-71ef-4aca-b432-7a332aa1240f",
   "metadata": {},
   "outputs": [],
   "source": [
    "# Example list of string values for each row\n",
    "period_values = [\n",
    "    'spin-up', 'calibration', 'calibration', 'calibration', 'calibration', \n",
    "    'validation', 'validation', 'validation', 'validation', 'validation', \n",
    "    'calibration', 'calibration', 'calibration', 'calibration', 'calibration',\n",
    "    'calibration', 'calibration', 'calibration', 'calibration', 'validation', \n",
    "    'validation', 'validation', 'validation', 'validation', 'calibration', \n",
    "    'calibration', 'calibration', 'calibration', 'validation', 'validation', \n",
    "    'validation', 'validation', 'validation', 'calibration', 'calibration', \n",
    "    'calibration', 'not considered'\n",
    "]\n",
    "# Ensure the list length matches the number of rows in the DataFrame\n",
    "annual_sum['period'] = period_values"
   ]
  },
  {
   "cell_type": "code",
   "execution_count": 13,
   "id": "88e28613-7fca-46ca-9e35-19536a0ded08",
   "metadata": {},
   "outputs": [],
   "source": [
    "# Define color mapping based on the 'period' column values\n",
    "color_mapping = {\n",
    "    'calibration': 'blue',  # Shade calibration periods in blue\n",
    "    'validation': 'green',  # Shade validation periods in green\n",
    "    'spin-up': 'grey',       # Shade other periods (e.g., spin-up) in grey\n",
    "    'not considered': 'grey'\n",
    "}\n",
    "\n",
    "# Create a list of colors corresponding to each row in the 'annual_sum' DataFrame\n",
    "colors = [color_mapping[period] for period in annual_sum['period']]"
   ]
  },
  {
   "cell_type": "code",
   "execution_count": 14,
   "id": "daaa277f-dcfb-4946-8b2f-9afc72c6f253",
   "metadata": {},
   "outputs": [],
   "source": [
    "# Convert the PeriodIndex to a string format for plotting\n",
    "x_labels = annual_sum.index.astype(str)\n",
    "\n",
    "# Calculate the 25th and 75th quantiles of the 'Flow' column\n",
    "quantile_25 = annual_sum['Flow'].quantile(0.25)\n",
    "quantile_75 = annual_sum['Flow'].quantile(0.75)"
   ]
  },
  {
   "cell_type": "code",
   "execution_count": 15,
   "id": "54750a7c-1381-4568-b19e-df7f2364b9c0",
   "metadata": {},
   "outputs": [
    {
     "data": {
      "image/png": "[encoded data removed]",
      "text/plain": [
       "<Figure size 1000x600 with 1 Axes>"
      ]
     },
     "metadata": {},
     "output_type": "display_data"
    }
   ],
   "source": [
    "# Plot the annual sum with custom colors using matplotlib\n",
    "fig, ax = plt.subplots(figsize=(10, 6))\n",
    "bars = ax.bar(x_labels, annual_sum['Flow'], color=colors)\n",
    "\n",
    "# Add horizontal dashed lines for the 25th and 75th quantiles\n",
    "plt.axhline(y=quantile_25, color='red', linestyle='--', linewidth=1, label='25th Quantile')\n",
    "plt.axhline(y=quantile_75, color='purple', linestyle='--', linewidth=1, label='75th Quantile')\n",
    "\n",
    "plt.title('Mean Annual Streamflow for Battle Creek')\n",
    "plt.xlabel('Water Year')\n",
    "plt.ylabel('Streamflow (cms)')\n",
    "plt.xticks(rotation=45)\n",
    "\n",
    "# Custom legend\n",
    "plt.legend(handles=[plt.Line2D([0], [0], color='blue', lw=4, label='Calibration'),\n",
    "                    plt.Line2D([0], [0], color='green', lw=4, label='Validation'),\n",
    "                    plt.Line2D([0], [0], color='grey', lw=4, label='Spin-up'),\n",
    "                    plt.Line2D([0], [0], color='red', linestyle='--', lw=1, label='25th Quantile'),\n",
    "                    plt.Line2D([0], [0], color='purple', linestyle='--', lw=1, label='75th Quantile')],\n",
    "           title='Period')\n",
    "\n",
    "plt.tight_layout()\n",
    "\n",
    "# Save the plot as a file\n",
    "plt.savefig('../../model/seperate_cal/combined_model/results/battle_annual_mean.png', dpi=300, bbox_inches='tight')  # Save with high resolution\n",
    "\n",
    "plt.show()"
   ]
  },
  {
   "cell_type": "code",
   "execution_count": 16,
   "id": "162ffa50-234d-4b14-ac3e-77c921e2f302",
   "metadata": {},
   "outputs": [
    {
     "name": "stdout",
     "output_type": "stream",
     "text": [
      "Calibration Period Counts:\n",
      "Below 25th Quantile: 4 years\n",
      "Between 25th and 75th Quantiles: 11 years\n",
      "Above 75th Quantile: 5 years\n",
      "\n",
      "Validation Period Counts:\n",
      "Below 25th Quantile: 4 years\n",
      "Between 25th and 75th Quantiles: 7 years\n",
      "Above 75th Quantile: 4 years\n"
     ]
    }
   ],
   "source": [
    "# Separate the data into calibration and validation periods\n",
    "calibration_periods = annual_sum[annual_sum['period'] == 'calibration']\n",
    "validation_periods = annual_sum[annual_sum['period'] == 'validation']\n",
    "\n",
    "# Count the number of years in each quantile range for calibration and validation periods\n",
    "def count_years_in_quantile(df, q25, q75):\n",
    "    below_q25 = df[df['Flow'] <= q25].shape[0]\n",
    "    between_q25_q75 = df[(df['Flow'] > q25) & (df['Flow'] <= q75)].shape[0]\n",
    "    above_q75 = df[df['Flow'] > q75].shape[0]\n",
    "    return below_q25, between_q25_q75, above_q75\n",
    "\n",
    "# Get counts for calibration periods\n",
    "cal_below_q25, cal_between_q25_q75, cal_above_q75 = count_years_in_quantile(calibration_periods, quantile_25, quantile_75)\n",
    "\n",
    "# Get counts for validation periods\n",
    "val_below_q25, val_between_q25_q75, val_above_q75 = count_years_in_quantile(validation_periods, quantile_25, quantile_75)\n",
    "\n",
    "# Print the results\n",
    "print(\"Calibration Period Counts:\")\n",
    "print(f\"Below 25th Quantile: {cal_below_q25} years\")\n",
    "print(f\"Between 25th and 75th Quantiles: {cal_between_q25_q75} years\")\n",
    "print(f\"Above 75th Quantile: {cal_above_q75} years\")\n",
    "\n",
    "print(\"\\nValidation Period Counts:\")\n",
    "print(f\"Below 25th Quantile: {val_below_q25} years\")\n",
    "print(f\"Between 25th and 75th Quantiles: {val_between_q25_q75} years\")\n",
    "print(f\"Above 75th Quantile: {val_above_q75} years\")"
   ]
  },
  {
   "cell_type": "code",
   "execution_count": 17,
   "id": "85229c82-80ab-45a6-b252-c5326a0414ed",
   "metadata": {},
   "outputs": [
    {
     "name": "stdout",
     "output_type": "stream",
     "text": [
      "Calibration period mean flow= 1.1212235281841774\n",
      "Validation period mean flow= 1.376142065546839\n"
     ]
    }
   ],
   "source": [
    "# Only do this if the periods have the same missing values!\n",
    "cal_mean= calibration_periods['Flow'].mean()\n",
    "val_mean= validation_periods['Flow'].mean()\n",
    "\n",
    "print(f'Calibration period mean flow= {cal_mean}')\n",
    "print(f'Validation period mean flow= {val_mean}')"
   ]
  }
 ],
 "metadata": {
  "kernelspec": {
   "display_name": "Python 3 (ipykernel)",
   "language": "python",
   "name": "python3"
  },
  "language_info": {
   "codemirror_mode": {
    "name": "ipython",
    "version": 3
   },
   "file_extension": ".py",
   "mimetype": "text/x-python",
   "name": "python",
   "nbconvert_exporter": "python",
   "pygments_lexer": "ipython3",
   "version": "3.10.13"
  }
 },
 "nbformat": 4,
 "nbformat_minor": 5
}
