{
 "cells": [
  {
   "cell_type": "code",
   "execution_count": 1,
   "id": "5b4d0d4e-8024-4dbf-9e93-443824a6aa6f",
   "metadata": {},
   "outputs": [],
   "source": [
    "import xarray as xr\n",
    "import geopandas as gpd\n",
    "import networkx as nx\n",
    "import pandas as pd\n",
    "import numpy as np"
   ]
  },
  {
   "cell_type": "code",
   "execution_count": 2,
   "id": "a64ab84d-aa1d-44ae-a0aa-08b966521041",
   "metadata": {},
   "outputs": [],
   "source": [
    "# Read the river and catchment shapefiles\n",
    "riv = gpd.read_file('C:/Users/Paul Coderre/Documents/github/ESP_HYPE_Tools/swe_analysis/smm_tgf_modified/smm_riv.shp')\n",
    "cat = gpd.read_file('C:/Users/Paul Coderre/Documents/github/ESP_HYPE_Tools/swe_analysis/smm_tgf_modified/smm_cat.shp')"
   ]
  },
  {
   "cell_type": "code",
   "execution_count": 3,
   "id": "d3fac201-8679-4349-aa01-853d94e63642",
   "metadata": {},
   "outputs": [],
   "source": [
    "# HYPE river segment to be analyzed\n",
    "riv_seg= '58425'"
   ]
  },
  {
   "cell_type": "code",
   "execution_count": 4,
   "id": "b855afdd-62a8-4449-8924-1e7cbd7501e8",
   "metadata": {},
   "outputs": [],
   "source": [
    "# Convert columns to string data type\n",
    "riv['seg_nhm'] = riv['seg_nhm'].astype(str)\n",
    "riv['ds_seg_nhm'] = riv['ds_seg_nhm'].astype(str)\n",
    "cat['seg_nhm'] = cat['seg_nhm'].astype(str)"
   ]
  },
  {
   "cell_type": "code",
   "execution_count": 5,
   "id": "d2675951-aab4-4272-9173-5eff3ae38f8c",
   "metadata": {},
   "outputs": [],
   "source": [
    "# Create a directed graph\n",
    "riv_graph = nx.DiGraph()\n",
    "\n",
    "# Add edges from DataFrame\n",
    "for idx, row in riv.iterrows():\n",
    "    if row['ds_seg_nhm'] != '0':  # Skip if ds_seg_nhm is '0'\n",
    "        riv_graph.add_edge(row['seg_nhm'], row['ds_seg_nhm'])\n",
    "\n",
    "# Find upstream segments for given segment\n",
    "upstream_segments = list(nx.ancestors(riv_graph, riv_seg))\n",
    "\n",
    "# Add the target segment 'riv_seg' to the upstream segments\n",
    "upstream_segments.append(riv_seg)"
   ]
  },
  {
   "cell_type": "code",
   "execution_count": 6,
   "id": "2c4cc008-81d9-45db-9918-ae9671de4dba",
   "metadata": {},
   "outputs": [
    {
     "data": {
      "text/plain": [
       "['58514', '58451', '58425']"
      ]
     },
     "execution_count": 6,
     "metadata": {},
     "output_type": "execute_result"
    }
   ],
   "source": [
    "upstream_segments"
   ]
  },
  {
   "cell_type": "code",
   "execution_count": 7,
   "id": "7dbf5aeb-5784-4268-b385-d11d9d85abca",
   "metadata": {},
   "outputs": [],
   "source": [
    "result = cat[cat['seg_nhm'].isin(upstream_segments)][['seg_nhm', 'Shape_Area']]"
   ]
  },
  {
   "cell_type": "code",
   "execution_count": 8,
   "id": "d0a5e442-dc94-4807-af71-4cc4a21900f0",
   "metadata": {},
   "outputs": [],
   "source": [
    "# Calculate the sum of Shape_Area for the provided upstream_segments\n",
    "total_shape_area_m2 = result['Shape_Area'].sum()\n",
    "\n",
    "# Convert from square meters to square kilometers\n",
    "total_shape_area_km2 = total_shape_area_m2 / 1e6"
   ]
  },
  {
   "cell_type": "code",
   "execution_count": 9,
   "id": "e652e019-1760-4a84-bca4-d69dd7258314",
   "metadata": {},
   "outputs": [
    {
     "data": {
      "text/plain": [
       "351.1652997295004"
      ]
     },
     "execution_count": 9,
     "metadata": {},
     "output_type": "execute_result"
    }
   ],
   "source": [
    "total_shape_area_km2"
   ]
  },
  {
   "cell_type": "code",
   "execution_count": null,
   "id": "9392db25-b78f-4f95-b83b-af08e5c168ed",
   "metadata": {},
   "outputs": [],
   "source": []
  },
  {
   "cell_type": "code",
   "execution_count": null,
   "id": "69c707e3-ce82-45a9-a86d-703fb57adf25",
   "metadata": {},
   "outputs": [],
   "source": []
  }
 ],
 "metadata": {
  "kernelspec": {
   "display_name": "Python 3 (ipykernel)",
   "language": "python",
   "name": "python3"
  },
  "language_info": {
   "codemirror_mode": {
    "name": "ipython",
    "version": 3
   },
   "file_extension": ".py",
   "mimetype": "text/x-python",
   "name": "python",
   "nbconvert_exporter": "python",
   "pygments_lexer": "ipython3",
   "version": "3.10.13"
  }
 },
 "nbformat": 4,
 "nbformat_minor": 5
}
