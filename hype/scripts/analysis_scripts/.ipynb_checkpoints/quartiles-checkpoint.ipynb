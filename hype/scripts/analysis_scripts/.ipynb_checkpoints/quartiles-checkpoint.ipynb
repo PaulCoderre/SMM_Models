{
 "cells": [
  {
   "cell_type": "code",
   "execution_count": 1,
   "id": "0e243e8e-1e2f-421f-ab23-8cbf9864863f",
   "metadata": {},
   "outputs": [],
   "source": [
    "import os\n",
    "import numpy as np\n",
    "import pandas as pd\n",
    "import matplotlib.pyplot as plt"
   ]
  },
  {
   "cell_type": "code",
   "execution_count": 2,
   "id": "08681824-aa60-4154-aa3c-2f36611185d5",
   "metadata": {},
   "outputs": [],
   "source": [
    "# read results into dataframe\n",
    "mreib= '../../model/model_versions/v_7/v7_1/hds_model/'\n",
    "#smrib= '../../model/model_versions/v_7/v_7_1/0058208.txt'"
   ]
  },
  {
   "cell_type": "markdown",
   "id": "da3be0de-7d19-48f7-9ab2-a1789c76c606",
   "metadata": {},
   "source": [
    "### Quartiles"
   ]
  },
  {
   "cell_type": "code",
   "execution_count": 3,
   "id": "bde7e362-7f03-4be2-a391-1aadcf09c042",
   "metadata": {},
   "outputs": [],
   "source": [
    "def prepare_quantiles(file_path):\n",
    "    \"\"\"\n",
    "    Reads a tab-separated file into a pandas DataFrame with the first column as the index.\n",
    "\n",
    "    Parameters:\n",
    "    file_path (str): The path to the file to read.\n",
    "\n",
    "    Returns:\n",
    "    pd.DataFrame: The resulting DataFrame.\n",
    "    \"\"\"\n",
    "    flow= pd.read_csv(file_path, index_col=0, sep='\\t')\n",
    "   # flow= pd.read_excel(file_path, index_col=0)\n",
    "    \n",
    "    flow = flow.drop(flow.index[0])\n",
    "    \n",
    "    # Ensure the index is datetime\n",
    "    flow.index = pd.to_datetime(flow.index)\n",
    "    \n",
    "    # Ensure the 'cout' column is of float type\n",
    "    flow['cout'] = flow['cout'].astype(float)\n",
    "    flow['rout'] = flow['rout'].astype(float)\n",
    "    \n",
    "    # Assuming 'pivoted' is your DataFrame\n",
    "    flow['rout'] = flow['rout'].replace(-9999.0, np.nan)\n",
    "    \n",
    "    # Convert flow from cfs to cms\n",
    "   # flow['cout'] *= 0.0283168  # Convert 'cout' from cfs to cms\n",
    "   # flow['rout'] *= 0.0283168  # Convert 'rout' from cfs to cms\n",
    "    \n",
    "    # Extract the day of the year\n",
    "    flow['day_of_year'] = flow.index.dayofyear\n",
    "    flow['year'] = flow.index.year\n",
    "\n",
    "    # Pivot the data to have days of the year as rows and years as columns\n",
    "    pivoted_sim = flow.pivot_table(values='cout', index='day_of_year', columns='year')\n",
    "\n",
    "    # pivot rout\n",
    "    pivoted_obs = flow.pivot_table(values='rout', index='day_of_year', columns='year')\n",
    "\n",
    "    # Assuming 'pivoted' is your DataFrame\n",
    "   # pivoted_obs.replace(-9999.0, np.nan, inplace=True)\n",
    "\n",
    "    # Calculate quartiles for each day of the year\n",
    "    quartiles_sim = pivoted_sim.quantile([0.025, 0.5, 0.975], axis=1)\n",
    "\n",
    "    quartiles_obs = pivoted_obs.quantile([0.025, 0.5, 0.975], axis=1)\n",
    "\n",
    "    return quartiles_sim, quartiles_obs, pivoted_sim, pivoted_obs"
   ]
  },
  {
   "cell_type": "code",
   "execution_count": 4,
   "id": "18f87dcf-e6da-4850-a063-d72ae67b2570",
   "metadata": {},
   "outputs": [],
   "source": [
    "def plot_quantiles(file_path, quartiles_sim, quartiles_obs, pivoted_sim, pivoted_obs, output_dir):\n",
    "    \"\"\"\n",
    "    Generates a plot of quantiles for simulated and observed data.\n",
    "\n",
    "    Parameters:\n",
    "    file_path (str): The input file path.\n",
    "    quartiles_sim (pd.DataFrame): Simulated quantiles.\n",
    "    quartiles_obs (pd.DataFrame): Observed quantiles.\n",
    "    pivoted_sim (pd.DataFrame): Pivoted simulated data.\n",
    "    pivoted_obs (pd.DataFrame): Pivoted observed data.\n",
    "    output_dir (str): Directory to save the plot.\n",
    "    \"\"\"\n",
    "    file_name = os.path.basename(file_path).replace('.txt', '')\n",
    "    \n",
    "    plt.figure(figsize=(10, 6.18))  # Adjust the figure size if needed\n",
    "\n",
    "    # Fill the region between the lower and upper quartiles for simulated data\n",
    "    plt.fill_between(\n",
    "        pivoted_sim.index, \n",
    "        quartiles_sim.loc[0.025], \n",
    "        quartiles_sim.loc[0.975], \n",
    "        color='red', \n",
    "        alpha=0.3, \n",
    "        label='Simulated Quantiles (0.025 to 0.975)'\n",
    "    )\n",
    "\n",
    "    # Fill the region between the lower and upper quartiles for observed data\n",
    "    plt.fill_between(\n",
    "        pivoted_obs.index, \n",
    "        quartiles_obs.loc[0.025], \n",
    "        quartiles_obs.loc[0.975], \n",
    "        color='blue', \n",
    "        alpha=0.3, \n",
    "        label='Observed Quantiles (0.025 to 0.975)'\n",
    "    )\n",
    "\n",
    "    plt.xlabel('Day of Year')\n",
    "    plt.ylabel('Streamflow (cfs)')\n",
    "    plt.grid(True)\n",
    "    plt.legend()\n",
    "\n",
    "    # Save the plot as a PNG file\n",
    "    output_path = os.path.join(output_dir, f'{file_name}_quantiles.png')\n",
    "    plt.tight_layout()\n",
    "    plt.savefig(output_path)\n",
    "    plt.close()"
   ]
  },
  {
   "cell_type": "code",
   "execution_count": 5,
   "id": "27046da0-cc16-49b4-8037-942206a038be",
   "metadata": {},
   "outputs": [],
   "source": [
    "def process_directory(input_dir, output_dir):\n",
    "    \"\"\"\n",
    "    Processes all files starting with '00' and ending with '.txt' in the input directory.\n",
    "\n",
    "    Parameters:\n",
    "    input_dir (str): Directory containing input files.\n",
    "    output_dir (str): Directory to save the plots.\n",
    "    \"\"\"\n",
    "    if not os.path.exists(output_dir):\n",
    "        os.makedirs(output_dir)\n",
    "\n",
    "    for file_name in os.listdir(input_dir):\n",
    "        if file_name.startswith('00') and file_name.endswith('.txt'):\n",
    "            file_path = os.path.join(input_dir, file_name)\n",
    "            quartiles_sim, quartiles_obs, pivoted_sim, pivoted_obs = prepare_quantiles(file_path)\n",
    "            plot_quantiles(file_path, quartiles_sim, quartiles_obs, pivoted_sim, pivoted_obs, output_dir)"
   ]
  },
  {
   "cell_type": "code",
   "execution_count": 6,
   "id": "cfc7ba9f-70a7-4c78-8dcd-b8c54bbd8a21",
   "metadata": {},
   "outputs": [],
   "source": [
    "# Specify the input and output directories\n",
    "input_directory = './../../model/model_versions/v_7/v7_1/hds_model/'  # Replace with your input directory path\n",
    "output_directory = './../../model/model_versions/v_7/v7_1/hds_model/quantiles/'  # Replace with your desired output directory path"
   ]
  },
  {
   "cell_type": "code",
   "execution_count": null,
   "id": "63faf33a-0005-46d0-93d5-bb3b774c15ef",
   "metadata": {},
   "outputs": [],
   "source": [
    "# Process the directory\n",
    "process_directory(input_directory, output_directory)"
   ]
  },
  {
   "cell_type": "code",
   "execution_count": null,
   "id": "97e03e3f-0115-4deb-9cda-3821a1b66780",
   "metadata": {},
   "outputs": [],
   "source": []
  }
 ],
 "metadata": {
  "kernelspec": {
   "display_name": "Python 3 (ipykernel)",
   "language": "python",
   "name": "python3"
  },
  "language_info": {
   "codemirror_mode": {
    "name": "ipython",
    "version": 3
   },
   "file_extension": ".py",
   "mimetype": "text/x-python",
   "name": "python",
   "nbconvert_exporter": "python",
   "pygments_lexer": "ipython3",
   "version": "3.10.13"
  }
 },
 "nbformat": 4,
 "nbformat_minor": 5
}
