{
 "cells": [
  {
   "cell_type": "code",
   "execution_count": 1,
   "id": "6f6e957e-927a-4063-8c24-20ec2a1a40d6",
   "metadata": {},
   "outputs": [],
   "source": [
    "import pandas as pd"
   ]
  },
  {
   "cell_type": "code",
   "execution_count": 2,
   "id": "1d2ae854-381b-4b69-ab81-b891bd44dcc3",
   "metadata": {},
   "outputs": [],
   "source": [
    "df = pd.read_csv('../../optimal_par/results/subass1.txt', delimiter='\\t', skiprows=1)"
   ]
  },
  {
   "cell_type": "code",
   "execution_count": 3,
   "id": "2fa39d3f-cc6e-4e29-aeeb-8962162c17f2",
   "metadata": {},
   "outputs": [],
   "source": [
    "# Assuming df is your DataFrame\n",
    "columns_to_keep = ['SUBID','NSE', 'Bias', 'KGE']\n",
    "\n",
    "# Select only the columns that exist in columns_to_keep\n",
    "df = df[columns_to_keep]"
   ]
  },
  {
   "cell_type": "code",
   "execution_count": 4,
   "id": "7c6af62f-6c9c-4e88-8b6e-e46e55932a75",
   "metadata": {},
   "outputs": [],
   "source": [
    "# Assuming df is your DataFrame\n",
    "df = df.set_index(df.columns[0])"
   ]
  },
  {
   "cell_type": "code",
   "execution_count": 5,
   "id": "5edc9a1a-9657-4b7b-be53-a8de12113022",
   "metadata": {},
   "outputs": [
    {
     "data": {
      "text/html": [
       "<div>\n",
       "<style scoped>\n",
       "    .dataframe tbody tr th:only-of-type {\n",
       "        vertical-align: middle;\n",
       "    }\n",
       "\n",
       "    .dataframe tbody tr th {\n",
       "        vertical-align: top;\n",
       "    }\n",
       "\n",
       "    .dataframe thead th {\n",
       "        text-align: right;\n",
       "    }\n",
       "</style>\n",
       "<table border=\"1\" class=\"dataframe\">\n",
       "  <thead>\n",
       "    <tr style=\"text-align: right;\">\n",
       "      <th></th>\n",
       "      <th>NSE</th>\n",
       "      <th>Bias</th>\n",
       "      <th>KGE</th>\n",
       "    </tr>\n",
       "    <tr>\n",
       "      <th>SUBID</th>\n",
       "      <th></th>\n",
       "      <th></th>\n",
       "      <th></th>\n",
       "    </tr>\n",
       "  </thead>\n",
       "  <tbody>\n",
       "    <tr>\n",
       "      <th>58643</th>\n",
       "      <td>-0.2687</td>\n",
       "      <td>-0.3118</td>\n",
       "      <td>0.3162</td>\n",
       "    </tr>\n",
       "    <tr>\n",
       "      <th>58408</th>\n",
       "      <td>0.1866</td>\n",
       "      <td>-0.1390</td>\n",
       "      <td>0.5774</td>\n",
       "    </tr>\n",
       "    <tr>\n",
       "      <th>58308</th>\n",
       "      <td>0.2160</td>\n",
       "      <td>-1.2555</td>\n",
       "      <td>0.4571</td>\n",
       "    </tr>\n",
       "    <tr>\n",
       "      <th>58346</th>\n",
       "      <td>0.4391</td>\n",
       "      <td>0.2978</td>\n",
       "      <td>0.5718</td>\n",
       "    </tr>\n",
       "    <tr>\n",
       "      <th>58356</th>\n",
       "      <td>0.0624</td>\n",
       "      <td>0.2476</td>\n",
       "      <td>0.3262</td>\n",
       "    </tr>\n",
       "    <tr>\n",
       "      <th>58363</th>\n",
       "      <td>0.0602</td>\n",
       "      <td>0.0482</td>\n",
       "      <td>0.4976</td>\n",
       "    </tr>\n",
       "    <tr>\n",
       "      <th>58418</th>\n",
       "      <td>0.4160</td>\n",
       "      <td>0.0973</td>\n",
       "      <td>0.4465</td>\n",
       "    </tr>\n",
       "    <tr>\n",
       "      <th>58435</th>\n",
       "      <td>-0.1374</td>\n",
       "      <td>-0.4853</td>\n",
       "      <td>-0.2097</td>\n",
       "    </tr>\n",
       "    <tr>\n",
       "      <th>58290</th>\n",
       "      <td>0.0476</td>\n",
       "      <td>0.0332</td>\n",
       "      <td>0.4777</td>\n",
       "    </tr>\n",
       "    <tr>\n",
       "      <th>58328</th>\n",
       "      <td>0.0477</td>\n",
       "      <td>0.1620</td>\n",
       "      <td>0.5476</td>\n",
       "    </tr>\n",
       "    <tr>\n",
       "      <th>58292</th>\n",
       "      <td>-5.4999</td>\n",
       "      <td>0.7800</td>\n",
       "      <td>-1.5619</td>\n",
       "    </tr>\n",
       "    <tr>\n",
       "      <th>58232</th>\n",
       "      <td>0.3608</td>\n",
       "      <td>-3.3374</td>\n",
       "      <td>0.2868</td>\n",
       "    </tr>\n",
       "    <tr>\n",
       "      <th>58213</th>\n",
       "      <td>0.6828</td>\n",
       "      <td>-5.3063</td>\n",
       "      <td>0.7071</td>\n",
       "    </tr>\n",
       "    <tr>\n",
       "      <th>58208</th>\n",
       "      <td>0.7051</td>\n",
       "      <td>-3.3974</td>\n",
       "      <td>0.8020</td>\n",
       "    </tr>\n",
       "  </tbody>\n",
       "</table>\n",
       "</div>"
      ],
      "text/plain": [
       "          NSE    Bias     KGE\n",
       "SUBID                        \n",
       "58643 -0.2687 -0.3118  0.3162\n",
       "58408  0.1866 -0.1390  0.5774\n",
       "58308  0.2160 -1.2555  0.4571\n",
       "58346  0.4391  0.2978  0.5718\n",
       "58356  0.0624  0.2476  0.3262\n",
       "58363  0.0602  0.0482  0.4976\n",
       "58418  0.4160  0.0973  0.4465\n",
       "58435 -0.1374 -0.4853 -0.2097\n",
       "58290  0.0476  0.0332  0.4777\n",
       "58328  0.0477  0.1620  0.5476\n",
       "58292 -5.4999  0.7800 -1.5619\n",
       "58232  0.3608 -3.3374  0.2868\n",
       "58213  0.6828 -5.3063  0.7071\n",
       "58208  0.7051 -3.3974  0.8020"
      ]
     },
     "execution_count": 5,
     "metadata": {},
     "output_type": "execute_result"
    }
   ],
   "source": [
    "df"
   ]
  },
  {
   "cell_type": "code",
   "execution_count": 6,
   "id": "707e6705-299d-46b4-80ad-e83bcf3c115b",
   "metadata": {},
   "outputs": [],
   "source": [
    "# Save the DataFrame as a CSV file\n",
    "df.to_csv('../../optimal_par/plots/preformance_metrics.csv', index=True)\n"
   ]
  },
  {
   "cell_type": "code",
   "execution_count": null,
   "id": "6048e717-b2c9-4a37-b902-743058791c80",
   "metadata": {},
   "outputs": [],
   "source": []
  }
 ],
 "metadata": {
  "kernelspec": {
   "display_name": "easymore-env",
   "language": "python",
   "name": "easymore-env"
  },
  "language_info": {
   "codemirror_mode": {
    "name": "ipython",
    "version": 3
   },
   "file_extension": ".py",
   "mimetype": "text/x-python",
   "name": "python",
   "nbconvert_exporter": "python",
   "pygments_lexer": "ipython3",
   "version": "3.8.10"
  }
 },
 "nbformat": 4,
 "nbformat_minor": 5
}
