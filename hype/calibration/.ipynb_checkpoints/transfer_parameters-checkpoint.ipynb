{
 "cells": [
  {
   "cell_type": "code",
   "execution_count": 1,
   "id": "962aee62-5170-4af8-93bd-b4eacb917c56",
   "metadata": {},
   "outputs": [],
   "source": [
    "import pandas as pd\n",
    "import numpy as np\n",
    "import string"
   ]
  },
  {
   "cell_type": "code",
   "execution_count": 2,
   "id": "726a1446-818a-46df-bb59-298a7d456f86",
   "metadata": {},
   "outputs": [],
   "source": [
    "# define first and last columns for land use and soil type to write in with paired parameters\n",
    "lu_first_col= 0\n",
    "lu_last_col= 11\n",
    "st_first_col= 0\n",
    "st_last_col= 8\n",
    "\n",
    "# this script transfers these parameters (milk river) to the st mary parameter file"
   ]
  },
  {
   "cell_type": "code",
   "execution_count": 3,
   "id": "2826cd01-df3d-433d-8948-7488f59b39ad",
   "metadata": {},
   "outputs": [],
   "source": [
    "# Read the st mary paramter file\n",
    "stm_par = pd.read_csv('../model/seperate_cal/stmary_cal/01_cal/mod_0/data/par.txt', comment='!', delimiter='\\t', header= None, index_col=0)\n",
    "\n",
    "# Read the milk river parameter file\n",
    "milk_par = pd.read_csv('../model/seperate_cal/milk_cal/01_cal/mod_0/data/par.txt', comment='!', delimiter='\\t', header= None, index_col=0)"
   ]
  },
  {
   "cell_type": "code",
   "execution_count": 4,
   "id": "21ae9538-70b9-4304-b7d8-faad0283c081",
   "metadata": {},
   "outputs": [],
   "source": [
    "# read cal params\n",
    "cal_params= pd.read_csv('./cal_param.txt', delimiter='\\t',header= None,index_col=0)"
   ]
  },
  {
   "cell_type": "code",
   "execution_count": 5,
   "id": "32cb0297-89ea-44d3-9923-62817f101083",
   "metadata": {},
   "outputs": [],
   "source": [
    "# Convert index of cal_params to string\n",
    "cal_params.index = cal_params.index.astype(str)\n",
    "\n",
    "# Convert index of par to string\n",
    "stm_par.index = stm_par.index.astype(str)\n",
    "milk_par.index = milk_par.index.astype(str)\n",
    "\n",
    "# Change column names in cal_params to integers\n",
    "cal_params.columns = range(cal_params.shape[1])"
   ]
  },
  {
   "cell_type": "code",
   "execution_count": 6,
   "id": "118846ff-4b95-4f8e-8ccc-704ef33fb33f",
   "metadata": {},
   "outputs": [],
   "source": [
    "# Iterate through the index of the par DataFrame\n",
    "for par_index in stm_par.index:\n",
    "    # Check if the index exists in cal_params\n",
    "    if par_index in cal_params.index:\n",
    "        # Get the row index of the value in cal_params DataFrame\n",
    "        cal_params_row_index = cal_params.index.get_loc(par_index)\n",
    "        \n",
    "        # Check the dependency value in column 7 of cal_params\n",
    "        dependency = cal_params.iloc[cal_params_row_index, 6] \n",
    "        \n",
    "        # Determine the range of columns to iterate based on the dependency type\n",
    "        if dependency == 'Soil Type':\n",
    "            cols_to_iterate = stm_par.columns[st_first_col:st_last_col + 1]\n",
    "        elif dependency == 'Land Use':\n",
    "            cols_to_iterate = stm_par.columns[lu_first_col:lu_last_col + 1]\n",
    "        else:\n",
    "            cols_to_iterate = stm_par.columns  # Iterate through all columns\n",
    "\n",
    "        # Iterate through the specified columns\n",
    "        for col in cols_to_iterate:\n",
    "            # find the value in milk to replace in st mary\n",
    "            par_value = milk_par.at[par_index, col]\n",
    "            stm_par.at[par_index, col] = par_value\n"
   ]
  },
  {
   "cell_type": "code",
   "execution_count": 7,
   "id": "a21ac41c-91af-4ef7-838c-db422d488ba2",
   "metadata": {},
   "outputs": [],
   "source": [
    "# Save par DataFrame as a tab-separated text file\n",
    "stm_par.to_csv('../model/seperate_Cal/combined_model/par_combined.txt', sep='\\t',header=False)"
   ]
  }
 ],
 "metadata": {
  "kernelspec": {
   "display_name": "Python 3 (ipykernel)",
   "language": "python",
   "name": "python3"
  },
  "language_info": {
   "codemirror_mode": {
    "name": "ipython",
    "version": 3
   },
   "file_extension": ".py",
   "mimetype": "text/x-python",
   "name": "python",
   "nbconvert_exporter": "python",
   "pygments_lexer": "ipython3",
   "version": "3.10.13"
  }
 },
 "nbformat": 4,
 "nbformat_minor": 5
}
